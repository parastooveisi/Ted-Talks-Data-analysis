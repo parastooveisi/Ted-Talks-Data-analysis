{
 "cells": [
  {
   "cell_type": "code",
   "execution_count": 1,
   "metadata": {},
   "outputs": [],
   "source": [
    "get_ipython().magic('matplotlib inline')\n",
    "import pandas as pd\n",
    "import numpy as np\n",
    "import datetime as dt\n",
    "import ast\n",
    "import sys\n",
    "import csv\n",
    "import matplotlib.pyplot as plt\n",
    "import seaborn as sns\n",
    "import json\n",
    "import ast\n",
    "import datetime\n",
    "from pandas.io.json import json_normalize\n",
    "import matplotlib.pyplot as plt\n",
    "%matplotlib inline"
   ]
  },
  {
   "cell_type": "code",
   "execution_count": 2,
   "metadata": {},
   "outputs": [
    {
     "data": {
      "text/plain": [
       "['Mon', 'Tue', 'Wed', 'Thu', 'Fri', 'Sat', 'Sun']"
      ]
     },
     "execution_count": 2,
     "metadata": {},
     "output_type": "execute_result"
    }
   ],
   "source": [
    "month_order = ['Jan', 'Feb', 'Mar', 'Apr', 'May', 'Jun', 'Jul', 'Aug', 'Sep', 'Oct', 'Nov', 'Dec']\n",
    "day_order = ['Mon', 'Tue', 'Wed', 'Thu', 'Fri', 'Sat', 'Sun']\n",
    "day_order"
   ]
  },
  {
   "cell_type": "code",
   "execution_count": 3,
   "metadata": {},
   "outputs": [],
   "source": [
    "df = pd.read_csv('./ted_main.csv')\n"
   ]
  },
  {
   "cell_type": "code",
   "execution_count": 4,
   "metadata": {},
   "outputs": [],
   "source": [
    "df = df[['name', 'title', 'description', 'main_speaker', 'speaker_occupation',\n",
    "         'num_speaker', 'duration', 'event', 'film_date', 'published_date', 'comments', 'tags', 'languages', 'ratings', 'related_talks', 'url', 'views']]\n"
   ]
  },
  {
   "cell_type": "markdown",
   "metadata": {},
   "source": [
    "<h3>Convert the Unix timestamps into a human readable format<h3>"
   ]
  },
  {
   "cell_type": "code",
   "execution_count": 5,
   "metadata": {},
   "outputs": [],
   "source": [
    "df['film_date'] = df['film_date'].apply(lambda x: datetime.datetime.fromtimestamp( int(x)).strftime('%d-%m-%Y'))\n",
    "df['published_date'] = df['published_date'].apply(lambda x: datetime.datetime.fromtimestamp( int(x)).strftime('%d-%m-%Y'))"
   ]
  },
  {
   "cell_type": "code",
   "execution_count": 6,
   "metadata": {},
   "outputs": [
    {
     "data": {
      "text/plain": [
       "0       26-06-2006\n",
       "1       26-06-2006\n",
       "2       26-06-2006\n",
       "3       26-06-2006\n",
       "4       27-06-2006\n",
       "           ...    \n",
       "2545    19-09-2017\n",
       "2546    20-09-2017\n",
       "2547    21-09-2017\n",
       "2548    21-09-2017\n",
       "2549    22-09-2017\n",
       "Name: published_date, Length: 2550, dtype: object"
      ]
     },
     "execution_count": 6,
     "metadata": {},
     "output_type": "execute_result"
    }
   ],
   "source": [
    "df['published_date']"
   ]
  },
  {
   "cell_type": "code",
   "execution_count": 7,
   "metadata": {},
   "outputs": [
    {
     "data": {
      "text/plain": [
       "count           2550\n",
       "unique          2336\n",
       "top       04-04-2007\n",
       "freq              20\n",
       "Name: published_date, dtype: object"
      ]
     },
     "execution_count": 7,
     "metadata": {},
     "output_type": "execute_result"
    }
   ],
   "source": [
    "df['published_date'].describe()"
   ]
  },
  {
   "cell_type": "code",
   "execution_count": 8,
   "metadata": {},
   "outputs": [
    {
     "data": {
      "text/html": [
       "<div>\n",
       "<style scoped>\n",
       "    .dataframe tbody tr th:only-of-type {\n",
       "        vertical-align: middle;\n",
       "    }\n",
       "\n",
       "    .dataframe tbody tr th {\n",
       "        vertical-align: top;\n",
       "    }\n",
       "\n",
       "    .dataframe thead th {\n",
       "        text-align: right;\n",
       "    }\n",
       "</style>\n",
       "<table border=\"1\" class=\"dataframe\">\n",
       "  <thead>\n",
       "    <tr style=\"text-align: right;\">\n",
       "      <th></th>\n",
       "      <th>title</th>\n",
       "      <th>main_speaker</th>\n",
       "      <th>views</th>\n",
       "      <th>published_date</th>\n",
       "      <th>comments</th>\n",
       "    </tr>\n",
       "  </thead>\n",
       "  <tbody>\n",
       "    <tr>\n",
       "      <th>2109</th>\n",
       "      <td>What makes a good life? Lessons from the longe...</td>\n",
       "      <td>Robert Waldinger</td>\n",
       "      <td>16601927</td>\n",
       "      <td>23-12-2015</td>\n",
       "      <td>527</td>\n",
       "    </tr>\n",
       "    <tr>\n",
       "      <th>1940</th>\n",
       "      <td>The price of shame</td>\n",
       "      <td>Monica Lewinsky</td>\n",
       "      <td>11443190</td>\n",
       "      <td>20-03-2015</td>\n",
       "      <td>1355</td>\n",
       "    </tr>\n",
       "    <tr>\n",
       "      <th>2076</th>\n",
       "      <td>How to stay calm when you know you'll be stressed</td>\n",
       "      <td>Daniel Levitin</td>\n",
       "      <td>9163813</td>\n",
       "      <td>30-10-2015</td>\n",
       "      <td>129</td>\n",
       "    </tr>\n",
       "    <tr>\n",
       "      <th>1981</th>\n",
       "      <td>Rethinking infidelity ... a talk for anyone wh...</td>\n",
       "      <td>Esther Perel</td>\n",
       "      <td>8218896</td>\n",
       "      <td>21-05-2015</td>\n",
       "      <td>370</td>\n",
       "    </tr>\n",
       "    <tr>\n",
       "      <th>2011</th>\n",
       "      <td>Everything you think you know about addiction ...</td>\n",
       "      <td>Johann Hari</td>\n",
       "      <td>7841509</td>\n",
       "      <td>09-07-2015</td>\n",
       "      <td>767</td>\n",
       "    </tr>\n",
       "    <tr>\n",
       "      <th>...</th>\n",
       "      <td>...</td>\n",
       "      <td>...</td>\n",
       "      <td>...</td>\n",
       "      <td>...</td>\n",
       "      <td>...</td>\n",
       "    </tr>\n",
       "    <tr>\n",
       "      <th>2094</th>\n",
       "      <td>How we're growing baby corals to rebuild reefs</td>\n",
       "      <td>Kristen Marhaver</td>\n",
       "      <td>729236</td>\n",
       "      <td>01-12-2015</td>\n",
       "      <td>21</td>\n",
       "    </tr>\n",
       "    <tr>\n",
       "      <th>1893</th>\n",
       "      <td>A forensic anthropologist who brings closure f...</td>\n",
       "      <td>Fredy Peccerelli</td>\n",
       "      <td>712971</td>\n",
       "      <td>08-01-2015</td>\n",
       "      <td>18</td>\n",
       "    </tr>\n",
       "    <tr>\n",
       "      <th>1898</th>\n",
       "      <td>Poetry that frees the soul</td>\n",
       "      <td>Cristina Domenech</td>\n",
       "      <td>687808</td>\n",
       "      <td>16-01-2015</td>\n",
       "      <td>49</td>\n",
       "    </tr>\n",
       "    <tr>\n",
       "      <th>2072</th>\n",
       "      <td>Social services are broken. How we can fix them</td>\n",
       "      <td>Hilary Cottam</td>\n",
       "      <td>684300</td>\n",
       "      <td>26-10-2015</td>\n",
       "      <td>80</td>\n",
       "    </tr>\n",
       "    <tr>\n",
       "      <th>1923</th>\n",
       "      <td>The power of herd immunity</td>\n",
       "      <td>Romina Libster</td>\n",
       "      <td>658478</td>\n",
       "      <td>25-02-2015</td>\n",
       "      <td>83</td>\n",
       "    </tr>\n",
       "  </tbody>\n",
       "</table>\n",
       "<p>220 rows × 5 columns</p>\n",
       "</div>"
      ],
      "text/plain": [
       "                                                  title       main_speaker  \\\n",
       "2109  What makes a good life? Lessons from the longe...   Robert Waldinger   \n",
       "1940                                 The price of shame    Monica Lewinsky   \n",
       "2076  How to stay calm when you know you'll be stressed     Daniel Levitin   \n",
       "1981  Rethinking infidelity ... a talk for anyone wh...       Esther Perel   \n",
       "2011  Everything you think you know about addiction ...        Johann Hari   \n",
       "...                                                 ...                ...   \n",
       "2094     How we're growing baby corals to rebuild reefs   Kristen Marhaver   \n",
       "1893  A forensic anthropologist who brings closure f...   Fredy Peccerelli   \n",
       "1898                         Poetry that frees the soul  Cristina Domenech   \n",
       "2072    Social services are broken. How we can fix them      Hilary Cottam   \n",
       "1923                         The power of herd immunity     Romina Libster   \n",
       "\n",
       "         views published_date  comments  \n",
       "2109  16601927     23-12-2015       527  \n",
       "1940  11443190     20-03-2015      1355  \n",
       "2076   9163813     30-10-2015       129  \n",
       "1981   8218896     21-05-2015       370  \n",
       "2011   7841509     09-07-2015       767  \n",
       "...        ...            ...       ...  \n",
       "2094    729236     01-12-2015        21  \n",
       "1893    712971     08-01-2015        18  \n",
       "1898    687808     16-01-2015        49  \n",
       "2072    684300     26-10-2015        80  \n",
       "1923    658478     25-02-2015        83  \n",
       "\n",
       "[220 rows x 5 columns]"
      ]
     },
     "execution_count": 8,
     "metadata": {},
     "output_type": "execute_result"
    }
   ],
   "source": [
    "df[['title', 'main_speaker', 'views', 'published_date', 'comments']].loc[pd.DatetimeIndex(df['published_date']).year == 2015].sort_values('views', ascending=False)"
   ]
  },
  {
   "cell_type": "markdown",
   "metadata": {},
   "source": [
    "<h3> Read transcripts.csv file and merge it to the main dataframe<h3>"
   ]
  },
  {
   "cell_type": "code",
   "execution_count": 9,
   "metadata": {},
   "outputs": [
    {
     "data": {
      "text/html": [
       "<div>\n",
       "<style scoped>\n",
       "    .dataframe tbody tr th:only-of-type {\n",
       "        vertical-align: middle;\n",
       "    }\n",
       "\n",
       "    .dataframe tbody tr th {\n",
       "        vertical-align: top;\n",
       "    }\n",
       "\n",
       "    .dataframe thead th {\n",
       "        text-align: right;\n",
       "    }\n",
       "</style>\n",
       "<table border=\"1\" class=\"dataframe\">\n",
       "  <thead>\n",
       "    <tr style=\"text-align: right;\">\n",
       "      <th></th>\n",
       "      <th>transcript</th>\n",
       "      <th>url</th>\n",
       "    </tr>\n",
       "  </thead>\n",
       "  <tbody>\n",
       "    <tr>\n",
       "      <th>0</th>\n",
       "      <td>Good morning. How are you?(Laughter)It's been ...</td>\n",
       "      <td>https://www.ted.com/talks/ken_robinson_says_sc...</td>\n",
       "    </tr>\n",
       "    <tr>\n",
       "      <th>1</th>\n",
       "      <td>Thank you so much, Chris. And it's truly a gre...</td>\n",
       "      <td>https://www.ted.com/talks/al_gore_on_averting_...</td>\n",
       "    </tr>\n",
       "    <tr>\n",
       "      <th>2</th>\n",
       "      <td>(Music: \"The Sound of Silence,\" Simon &amp; Garfun...</td>\n",
       "      <td>https://www.ted.com/talks/david_pogue_says_sim...</td>\n",
       "    </tr>\n",
       "    <tr>\n",
       "      <th>3</th>\n",
       "      <td>If you're here today — and I'm very happy that...</td>\n",
       "      <td>https://www.ted.com/talks/majora_carter_s_tale...</td>\n",
       "    </tr>\n",
       "    <tr>\n",
       "      <th>4</th>\n",
       "      <td>About 10 years ago, I took on the task to teac...</td>\n",
       "      <td>https://www.ted.com/talks/hans_rosling_shows_t...</td>\n",
       "    </tr>\n",
       "  </tbody>\n",
       "</table>\n",
       "</div>"
      ],
      "text/plain": [
       "                                          transcript  \\\n",
       "0  Good morning. How are you?(Laughter)It's been ...   \n",
       "1  Thank you so much, Chris. And it's truly a gre...   \n",
       "2  (Music: \"The Sound of Silence,\" Simon & Garfun...   \n",
       "3  If you're here today — and I'm very happy that...   \n",
       "4  About 10 years ago, I took on the task to teac...   \n",
       "\n",
       "                                                 url  \n",
       "0  https://www.ted.com/talks/ken_robinson_says_sc...  \n",
       "1  https://www.ted.com/talks/al_gore_on_averting_...  \n",
       "2  https://www.ted.com/talks/david_pogue_says_sim...  \n",
       "3  https://www.ted.com/talks/majora_carter_s_tale...  \n",
       "4  https://www.ted.com/talks/hans_rosling_shows_t...  "
      ]
     },
     "execution_count": 9,
     "metadata": {},
     "output_type": "execute_result"
    }
   ],
   "source": [
    "df2 = pd.read_csv('./transcripts.csv')\n",
    "df2.head()"
   ]
  },
  {
   "cell_type": "code",
   "execution_count": 10,
   "metadata": {},
   "outputs": [],
   "source": [
    "df3 = pd.merge(left=df,right=df2, how='left', left_on='url', right_on='url')"
   ]
  },
  {
   "cell_type": "code",
   "execution_count": 11,
   "metadata": {},
   "outputs": [],
   "source": [
    "df3['transcript'] = df3['transcript'].fillna('')\n",
    "df3['wc'] = df3['transcript'].apply(lambda x: len(x.split()))"
   ]
  },
  {
   "cell_type": "code",
   "execution_count": 12,
   "metadata": {},
   "outputs": [
    {
     "data": {
      "text/plain": [
       "count    2553.000000\n",
       "mean        2.369129\n",
       "std         0.660589\n",
       "min         0.000000\n",
       "25%         2.184486\n",
       "50%         2.483636\n",
       "75%         2.749744\n",
       "max         4.122748\n",
       "Name: wpm, dtype: float64"
      ]
     },
     "execution_count": 12,
     "metadata": {},
     "output_type": "execute_result"
    }
   ],
   "source": [
    "df3['wpm'] = df3['wc']/df3['duration']\n",
    "df3['wpm'].describe()"
   ]
  },
  {
   "cell_type": "code",
   "execution_count": 13,
   "metadata": {},
   "outputs": [
    {
     "name": "stdout",
     "output_type": "stream",
     "text": [
      "2107601\n"
     ]
    }
   ],
   "source": [
    "Total = df['duration'].sum()\n",
    "print (Total)"
   ]
  },
  {
   "cell_type": "markdown",
   "metadata": {},
   "source": [
    "<h3> Most viewed videos<h3>"
   ]
  },
  {
   "cell_type": "code",
   "execution_count": 14,
   "metadata": {},
   "outputs": [
    {
     "data": {
      "text/html": [
       "<div>\n",
       "<style scoped>\n",
       "    .dataframe tbody tr th:only-of-type {\n",
       "        vertical-align: middle;\n",
       "    }\n",
       "\n",
       "    .dataframe tbody tr th {\n",
       "        vertical-align: top;\n",
       "    }\n",
       "\n",
       "    .dataframe thead th {\n",
       "        text-align: right;\n",
       "    }\n",
       "</style>\n",
       "<table border=\"1\" class=\"dataframe\">\n",
       "  <thead>\n",
       "    <tr style=\"text-align: right;\">\n",
       "      <th></th>\n",
       "      <th>title</th>\n",
       "      <th>main_speaker</th>\n",
       "      <th>views</th>\n",
       "      <th>film_date</th>\n",
       "    </tr>\n",
       "  </thead>\n",
       "  <tbody>\n",
       "    <tr>\n",
       "      <th>0</th>\n",
       "      <td>Do schools kill creativity?</td>\n",
       "      <td>Ken Robinson</td>\n",
       "      <td>47227110</td>\n",
       "      <td>24-02-2006</td>\n",
       "    </tr>\n",
       "    <tr>\n",
       "      <th>1346</th>\n",
       "      <td>Your body language may shape who you are</td>\n",
       "      <td>Amy Cuddy</td>\n",
       "      <td>43155405</td>\n",
       "      <td>25-06-2012</td>\n",
       "    </tr>\n",
       "    <tr>\n",
       "      <th>677</th>\n",
       "      <td>How great leaders inspire action</td>\n",
       "      <td>Simon Sinek</td>\n",
       "      <td>34309432</td>\n",
       "      <td>16-09-2009</td>\n",
       "    </tr>\n",
       "    <tr>\n",
       "      <th>837</th>\n",
       "      <td>The power of vulnerability</td>\n",
       "      <td>Brené Brown</td>\n",
       "      <td>31168150</td>\n",
       "      <td>05-06-2010</td>\n",
       "    </tr>\n",
       "    <tr>\n",
       "      <th>452</th>\n",
       "      <td>10 things you didn't know about orgasm</td>\n",
       "      <td>Mary Roach</td>\n",
       "      <td>22270883</td>\n",
       "      <td>05-02-2009</td>\n",
       "    </tr>\n",
       "    <tr>\n",
       "      <th>1776</th>\n",
       "      <td>How to speak so that people want to listen</td>\n",
       "      <td>Julian Treasure</td>\n",
       "      <td>21594632</td>\n",
       "      <td>09-06-2013</td>\n",
       "    </tr>\n",
       "    <tr>\n",
       "      <th>201</th>\n",
       "      <td>My stroke of insight</td>\n",
       "      <td>Jill Bolte Taylor</td>\n",
       "      <td>21190883</td>\n",
       "      <td>26-02-2008</td>\n",
       "    </tr>\n",
       "    <tr>\n",
       "      <th>5</th>\n",
       "      <td>Why we do what we do</td>\n",
       "      <td>Tony Robbins</td>\n",
       "      <td>20685401</td>\n",
       "      <td>01-02-2006</td>\n",
       "    </tr>\n",
       "    <tr>\n",
       "      <th>2114</th>\n",
       "      <td>This is what happens when you reply to spam email</td>\n",
       "      <td>James Veitch</td>\n",
       "      <td>20475972</td>\n",
       "      <td>07-12-2015</td>\n",
       "    </tr>\n",
       "    <tr>\n",
       "      <th>1416</th>\n",
       "      <td>Looks aren't everything. Believe me, I'm a model.</td>\n",
       "      <td>Cameron Russell</td>\n",
       "      <td>19787465</td>\n",
       "      <td>26-10-2012</td>\n",
       "    </tr>\n",
       "    <tr>\n",
       "      <th>500</th>\n",
       "      <td>The puzzle of motivation</td>\n",
       "      <td>Dan Pink</td>\n",
       "      <td>18830983</td>\n",
       "      <td>23-07-2009</td>\n",
       "    </tr>\n",
       "    <tr>\n",
       "      <th>1163</th>\n",
       "      <td>The power of introverts</td>\n",
       "      <td>Susan Cain</td>\n",
       "      <td>17629275</td>\n",
       "      <td>27-02-2012</td>\n",
       "    </tr>\n",
       "    <tr>\n",
       "      <th>1036</th>\n",
       "      <td>How to spot a liar</td>\n",
       "      <td>Pamela Meyer</td>\n",
       "      <td>16861578</td>\n",
       "      <td>12-07-2011</td>\n",
       "    </tr>\n",
       "    <tr>\n",
       "      <th>2109</th>\n",
       "      <td>What makes a good life? Lessons from the longe...</td>\n",
       "      <td>Robert Waldinger</td>\n",
       "      <td>16601927</td>\n",
       "      <td>13-11-2015</td>\n",
       "    </tr>\n",
       "    <tr>\n",
       "      <th>1129</th>\n",
       "      <td>The happy secret to better work</td>\n",
       "      <td>Shawn Achor</td>\n",
       "      <td>16209727</td>\n",
       "      <td>10-05-2011</td>\n",
       "    </tr>\n",
       "    <tr>\n",
       "      <th>553</th>\n",
       "      <td>The thrilling potential of SixthSense technology</td>\n",
       "      <td>Pranav Mistry</td>\n",
       "      <td>16097077</td>\n",
       "      <td>04-11-2009</td>\n",
       "    </tr>\n",
       "    <tr>\n",
       "      <th>596</th>\n",
       "      <td>How I held my breath for 17 minutes</td>\n",
       "      <td>David Blaine</td>\n",
       "      <td>15601385</td>\n",
       "      <td>26-10-2009</td>\n",
       "    </tr>\n",
       "    <tr>\n",
       "      <th>1579</th>\n",
       "      <td>The art of misdirection</td>\n",
       "      <td>Apollo Robbins</td>\n",
       "      <td>15283242</td>\n",
       "      <td>11-06-2013</td>\n",
       "    </tr>\n",
       "    <tr>\n",
       "      <th>2161</th>\n",
       "      <td>Inside the mind of a master procrastinator</td>\n",
       "      <td>Tim Urban</td>\n",
       "      <td>14745406</td>\n",
       "      <td>15-02-2016</td>\n",
       "    </tr>\n",
       "    <tr>\n",
       "      <th>29</th>\n",
       "      <td>The surprising science of happiness</td>\n",
       "      <td>Dan Gilbert</td>\n",
       "      <td>14689301</td>\n",
       "      <td>01-02-2004</td>\n",
       "    </tr>\n",
       "  </tbody>\n",
       "</table>\n",
       "</div>"
      ],
      "text/plain": [
       "                                                  title       main_speaker  \\\n",
       "0                           Do schools kill creativity?       Ken Robinson   \n",
       "1346           Your body language may shape who you are          Amy Cuddy   \n",
       "677                    How great leaders inspire action        Simon Sinek   \n",
       "837                          The power of vulnerability        Brené Brown   \n",
       "452              10 things you didn't know about orgasm         Mary Roach   \n",
       "1776         How to speak so that people want to listen    Julian Treasure   \n",
       "201                                My stroke of insight  Jill Bolte Taylor   \n",
       "5                                  Why we do what we do       Tony Robbins   \n",
       "2114  This is what happens when you reply to spam email       James Veitch   \n",
       "1416  Looks aren't everything. Believe me, I'm a model.    Cameron Russell   \n",
       "500                            The puzzle of motivation           Dan Pink   \n",
       "1163                            The power of introverts         Susan Cain   \n",
       "1036                                 How to spot a liar       Pamela Meyer   \n",
       "2109  What makes a good life? Lessons from the longe...   Robert Waldinger   \n",
       "1129                    The happy secret to better work        Shawn Achor   \n",
       "553    The thrilling potential of SixthSense technology      Pranav Mistry   \n",
       "596                 How I held my breath for 17 minutes       David Blaine   \n",
       "1579                            The art of misdirection     Apollo Robbins   \n",
       "2161         Inside the mind of a master procrastinator          Tim Urban   \n",
       "29                  The surprising science of happiness        Dan Gilbert   \n",
       "\n",
       "         views   film_date  \n",
       "0     47227110  24-02-2006  \n",
       "1346  43155405  25-06-2012  \n",
       "677   34309432  16-09-2009  \n",
       "837   31168150  05-06-2010  \n",
       "452   22270883  05-02-2009  \n",
       "1776  21594632  09-06-2013  \n",
       "201   21190883  26-02-2008  \n",
       "5     20685401  01-02-2006  \n",
       "2114  20475972  07-12-2015  \n",
       "1416  19787465  26-10-2012  \n",
       "500   18830983  23-07-2009  \n",
       "1163  17629275  27-02-2012  \n",
       "1036  16861578  12-07-2011  \n",
       "2109  16601927  13-11-2015  \n",
       "1129  16209727  10-05-2011  \n",
       "553   16097077  04-11-2009  \n",
       "596   15601385  26-10-2009  \n",
       "1579  15283242  11-06-2013  \n",
       "2161  14745406  15-02-2016  \n",
       "29    14689301  01-02-2004  "
      ]
     },
     "execution_count": 14,
     "metadata": {},
     "output_type": "execute_result"
    }
   ],
   "source": [
    "pop_talks = df[['title', 'main_speaker', 'views', 'film_date']].sort_values('views', ascending=False)[:20]\n",
    "pop_talks"
   ]
  },
  {
   "cell_type": "markdown",
   "metadata": {},
   "source": [
    "<h3> Most commented videos<h3>"
   ]
  },
  {
   "cell_type": "code",
   "execution_count": 15,
   "metadata": {},
   "outputs": [
    {
     "data": {
      "text/html": [
       "<div>\n",
       "<style scoped>\n",
       "    .dataframe tbody tr th:only-of-type {\n",
       "        vertical-align: middle;\n",
       "    }\n",
       "\n",
       "    .dataframe tbody tr th {\n",
       "        vertical-align: top;\n",
       "    }\n",
       "\n",
       "    .dataframe thead th {\n",
       "        text-align: right;\n",
       "    }\n",
       "</style>\n",
       "<table border=\"1\" class=\"dataframe\">\n",
       "  <thead>\n",
       "    <tr style=\"text-align: right;\">\n",
       "      <th></th>\n",
       "      <th>title</th>\n",
       "      <th>main_speaker</th>\n",
       "      <th>views</th>\n",
       "      <th>comments</th>\n",
       "    </tr>\n",
       "  </thead>\n",
       "  <tbody>\n",
       "    <tr>\n",
       "      <th>96</th>\n",
       "      <td>Militant atheism</td>\n",
       "      <td>Richard Dawkins</td>\n",
       "      <td>4374792</td>\n",
       "      <td>6404</td>\n",
       "    </tr>\n",
       "    <tr>\n",
       "      <th>0</th>\n",
       "      <td>Do schools kill creativity?</td>\n",
       "      <td>Ken Robinson</td>\n",
       "      <td>47227110</td>\n",
       "      <td>4553</td>\n",
       "    </tr>\n",
       "    <tr>\n",
       "      <th>644</th>\n",
       "      <td>Science can answer moral questions</td>\n",
       "      <td>Sam Harris</td>\n",
       "      <td>3433437</td>\n",
       "      <td>3356</td>\n",
       "    </tr>\n",
       "    <tr>\n",
       "      <th>201</th>\n",
       "      <td>My stroke of insight</td>\n",
       "      <td>Jill Bolte Taylor</td>\n",
       "      <td>21190883</td>\n",
       "      <td>2877</td>\n",
       "    </tr>\n",
       "    <tr>\n",
       "      <th>1787</th>\n",
       "      <td>How do you explain consciousness?</td>\n",
       "      <td>David Chalmers</td>\n",
       "      <td>2162764</td>\n",
       "      <td>2673</td>\n",
       "    </tr>\n",
       "    <tr>\n",
       "      <th>954</th>\n",
       "      <td>Taking imagination seriously</td>\n",
       "      <td>Janet Echelman</td>\n",
       "      <td>1832930</td>\n",
       "      <td>2492</td>\n",
       "    </tr>\n",
       "    <tr>\n",
       "      <th>840</th>\n",
       "      <td>On reading the Koran</td>\n",
       "      <td>Lesley Hazleton</td>\n",
       "      <td>1847256</td>\n",
       "      <td>2374</td>\n",
       "    </tr>\n",
       "    <tr>\n",
       "      <th>1346</th>\n",
       "      <td>Your body language may shape who you are</td>\n",
       "      <td>Amy Cuddy</td>\n",
       "      <td>43155405</td>\n",
       "      <td>2290</td>\n",
       "    </tr>\n",
       "    <tr>\n",
       "      <th>661</th>\n",
       "      <td>The danger of science denial</td>\n",
       "      <td>Michael Specter</td>\n",
       "      <td>1838628</td>\n",
       "      <td>2272</td>\n",
       "    </tr>\n",
       "    <tr>\n",
       "      <th>677</th>\n",
       "      <td>How great leaders inspire action</td>\n",
       "      <td>Simon Sinek</td>\n",
       "      <td>34309432</td>\n",
       "      <td>1930</td>\n",
       "    </tr>\n",
       "  </tbody>\n",
       "</table>\n",
       "</div>"
      ],
      "text/plain": [
       "                                         title       main_speaker     views  \\\n",
       "96                            Militant atheism    Richard Dawkins   4374792   \n",
       "0                  Do schools kill creativity?       Ken Robinson  47227110   \n",
       "644         Science can answer moral questions         Sam Harris   3433437   \n",
       "201                       My stroke of insight  Jill Bolte Taylor  21190883   \n",
       "1787         How do you explain consciousness?     David Chalmers   2162764   \n",
       "954               Taking imagination seriously     Janet Echelman   1832930   \n",
       "840                       On reading the Koran    Lesley Hazleton   1847256   \n",
       "1346  Your body language may shape who you are          Amy Cuddy  43155405   \n",
       "661               The danger of science denial    Michael Specter   1838628   \n",
       "677           How great leaders inspire action        Simon Sinek  34309432   \n",
       "\n",
       "      comments  \n",
       "96        6404  \n",
       "0         4553  \n",
       "644       3356  \n",
       "201       2877  \n",
       "1787      2673  \n",
       "954       2492  \n",
       "840       2374  \n",
       "1346      2290  \n",
       "661       2272  \n",
       "677       1930  "
      ]
     },
     "execution_count": 15,
     "metadata": {},
     "output_type": "execute_result"
    }
   ],
   "source": [
    "df[['title', 'main_speaker','views', 'comments']].sort_values('comments', ascending=False).head(10)"
   ]
  },
  {
   "cell_type": "markdown",
   "metadata": {},
   "source": [
    "<h3>Calculate total ratings<h3>"
   ]
  },
  {
   "cell_type": "code",
   "execution_count": 16,
   "metadata": {},
   "outputs": [],
   "source": [
    "import ast\n",
    "df['ratings'] = df['ratings'].apply(lambda x: ast.literal_eval(x))\n",
    "sum = 0\n",
    "sum_list = []\n",
    "for index, row in df.iterrows():\n",
    "    sum = 0\n",
    "    for dct in row['ratings']:\n",
    "    \n",
    "        if (int(dct['id']) in (1, 3, 7, 8, 9, 10, 22, 23, 24)):\n",
    "            sum += int(dct['count'])\n",
    "        else:\n",
    "            sum -= int(dct['count'])\n",
    "    sum_list.append(sum)\n",
    "    \n",
    "df['total_ratings'] = sum_list"
   ]
  },
  {
   "cell_type": "markdown",
   "metadata": {},
   "source": [
    "<h3> Add published year column to the dataframe<h3>"
   ]
  },
  {
   "cell_type": "code",
   "execution_count": 17,
   "metadata": {},
   "outputs": [],
   "source": [
    "year = []\n",
    "for index, row in df.iterrows():\n",
    "        \n",
    "        year.append(int(row['published_date'][6:]))"
   ]
  },
  {
   "cell_type": "code",
   "execution_count": 18,
   "metadata": {},
   "outputs": [],
   "source": [
    "df['year'] = year"
   ]
  },
  {
   "cell_type": "code",
   "execution_count": 19,
   "metadata": {
    "scrolled": true
   },
   "outputs": [
    {
     "data": {
      "text/html": [
       "<div>\n",
       "<style scoped>\n",
       "    .dataframe tbody tr th:only-of-type {\n",
       "        vertical-align: middle;\n",
       "    }\n",
       "\n",
       "    .dataframe tbody tr th {\n",
       "        vertical-align: top;\n",
       "    }\n",
       "\n",
       "    .dataframe thead th {\n",
       "        text-align: right;\n",
       "    }\n",
       "</style>\n",
       "<table border=\"1\" class=\"dataframe\">\n",
       "  <thead>\n",
       "    <tr style=\"text-align: right;\">\n",
       "      <th></th>\n",
       "      <th>name</th>\n",
       "      <th>title</th>\n",
       "      <th>description</th>\n",
       "      <th>main_speaker</th>\n",
       "      <th>speaker_occupation</th>\n",
       "      <th>num_speaker</th>\n",
       "      <th>duration</th>\n",
       "      <th>event</th>\n",
       "      <th>film_date</th>\n",
       "      <th>published_date</th>\n",
       "      <th>comments</th>\n",
       "      <th>tags</th>\n",
       "      <th>languages</th>\n",
       "      <th>ratings</th>\n",
       "      <th>related_talks</th>\n",
       "      <th>url</th>\n",
       "      <th>views</th>\n",
       "      <th>total_ratings</th>\n",
       "      <th>year</th>\n",
       "    </tr>\n",
       "  </thead>\n",
       "  <tbody>\n",
       "    <tr>\n",
       "      <th>0</th>\n",
       "      <td>Ken Robinson: Do schools kill creativity?</td>\n",
       "      <td>Do schools kill creativity?</td>\n",
       "      <td>Sir Ken Robinson makes an entertaining and pro...</td>\n",
       "      <td>Ken Robinson</td>\n",
       "      <td>Author/educator</td>\n",
       "      <td>1</td>\n",
       "      <td>1164</td>\n",
       "      <td>TED2006</td>\n",
       "      <td>24-02-2006</td>\n",
       "      <td>26-06-2006</td>\n",
       "      <td>4553</td>\n",
       "      <td>['children', 'creativity', 'culture', 'dance',...</td>\n",
       "      <td>60</td>\n",
       "      <td>[{'id': 7, 'name': 'Funny', 'count': 19645}, {...</td>\n",
       "      <td>[{'id': 865, 'hero': 'https://pe.tedcdn.com/im...</td>\n",
       "      <td>https://www.ted.com/talks/ken_robinson_says_sc...</td>\n",
       "      <td>47227110</td>\n",
       "      <td>89226</td>\n",
       "      <td>2006</td>\n",
       "    </tr>\n",
       "    <tr>\n",
       "      <th>1</th>\n",
       "      <td>Al Gore: Averting the climate crisis</td>\n",
       "      <td>Averting the climate crisis</td>\n",
       "      <td>With the same humor and humanity he exuded in ...</td>\n",
       "      <td>Al Gore</td>\n",
       "      <td>Climate advocate</td>\n",
       "      <td>1</td>\n",
       "      <td>977</td>\n",
       "      <td>TED2006</td>\n",
       "      <td>24-02-2006</td>\n",
       "      <td>26-06-2006</td>\n",
       "      <td>265</td>\n",
       "      <td>['alternative energy', 'cars', 'climate change...</td>\n",
       "      <td>43</td>\n",
       "      <td>[{'id': 7, 'name': 'Funny', 'count': 544}, {'i...</td>\n",
       "      <td>[{'id': 243, 'hero': 'https://pe.tedcdn.com/im...</td>\n",
       "      <td>https://www.ted.com/talks/al_gore_on_averting_...</td>\n",
       "      <td>3200520</td>\n",
       "      <td>1402</td>\n",
       "      <td>2006</td>\n",
       "    </tr>\n",
       "    <tr>\n",
       "      <th>2</th>\n",
       "      <td>David Pogue: Simplicity sells</td>\n",
       "      <td>Simplicity sells</td>\n",
       "      <td>New York Times columnist David Pogue takes aim...</td>\n",
       "      <td>David Pogue</td>\n",
       "      <td>Technology columnist</td>\n",
       "      <td>1</td>\n",
       "      <td>1286</td>\n",
       "      <td>TED2006</td>\n",
       "      <td>23-02-2006</td>\n",
       "      <td>26-06-2006</td>\n",
       "      <td>124</td>\n",
       "      <td>['computers', 'entertainment', 'interface desi...</td>\n",
       "      <td>26</td>\n",
       "      <td>[{'id': 7, 'name': 'Funny', 'count': 964}, {'i...</td>\n",
       "      <td>[{'id': 1725, 'hero': 'https://pe.tedcdn.com/i...</td>\n",
       "      <td>https://www.ted.com/talks/david_pogue_says_sim...</td>\n",
       "      <td>1636292</td>\n",
       "      <td>1830</td>\n",
       "      <td>2006</td>\n",
       "    </tr>\n",
       "    <tr>\n",
       "      <th>3</th>\n",
       "      <td>Majora Carter: Greening the ghetto</td>\n",
       "      <td>Greening the ghetto</td>\n",
       "      <td>In an emotionally charged talk, MacArthur-winn...</td>\n",
       "      <td>Majora Carter</td>\n",
       "      <td>Activist for environmental justice</td>\n",
       "      <td>1</td>\n",
       "      <td>1116</td>\n",
       "      <td>TED2006</td>\n",
       "      <td>25-02-2006</td>\n",
       "      <td>26-06-2006</td>\n",
       "      <td>200</td>\n",
       "      <td>['MacArthur grant', 'activism', 'business', 'c...</td>\n",
       "      <td>35</td>\n",
       "      <td>[{'id': 3, 'name': 'Courageous', 'count': 760}...</td>\n",
       "      <td>[{'id': 1041, 'hero': 'https://pe.tedcdn.com/i...</td>\n",
       "      <td>https://www.ted.com/talks/majora_carter_s_tale...</td>\n",
       "      <td>1697550</td>\n",
       "      <td>3246</td>\n",
       "      <td>2006</td>\n",
       "    </tr>\n",
       "    <tr>\n",
       "      <th>4</th>\n",
       "      <td>Hans Rosling: The best stats you've ever seen</td>\n",
       "      <td>The best stats you've ever seen</td>\n",
       "      <td>You've never seen data presented like this. Wi...</td>\n",
       "      <td>Hans Rosling</td>\n",
       "      <td>Global health expert; data visionary</td>\n",
       "      <td>1</td>\n",
       "      <td>1190</td>\n",
       "      <td>TED2006</td>\n",
       "      <td>21-02-2006</td>\n",
       "      <td>27-06-2006</td>\n",
       "      <td>593</td>\n",
       "      <td>['Africa', 'Asia', 'Google', 'demo', 'economic...</td>\n",
       "      <td>48</td>\n",
       "      <td>[{'id': 9, 'name': 'Ingenious', 'count': 3202}...</td>\n",
       "      <td>[{'id': 2056, 'hero': 'https://pe.tedcdn.com/i...</td>\n",
       "      <td>https://www.ted.com/talks/hans_rosling_shows_t...</td>\n",
       "      <td>12005869</td>\n",
       "      <td>24504</td>\n",
       "      <td>2006</td>\n",
       "    </tr>\n",
       "    <tr>\n",
       "      <th>...</th>\n",
       "      <td>...</td>\n",
       "      <td>...</td>\n",
       "      <td>...</td>\n",
       "      <td>...</td>\n",
       "      <td>...</td>\n",
       "      <td>...</td>\n",
       "      <td>...</td>\n",
       "      <td>...</td>\n",
       "      <td>...</td>\n",
       "      <td>...</td>\n",
       "      <td>...</td>\n",
       "      <td>...</td>\n",
       "      <td>...</td>\n",
       "      <td>...</td>\n",
       "      <td>...</td>\n",
       "      <td>...</td>\n",
       "      <td>...</td>\n",
       "      <td>...</td>\n",
       "      <td>...</td>\n",
       "    </tr>\n",
       "    <tr>\n",
       "      <th>2545</th>\n",
       "      <td>Duarte Geraldino: What we're missing in the de...</td>\n",
       "      <td>What we're missing in the debate about immigra...</td>\n",
       "      <td>Between 2008 and 2016, the United States depor...</td>\n",
       "      <td>Duarte Geraldino</td>\n",
       "      <td>Journalist</td>\n",
       "      <td>1</td>\n",
       "      <td>476</td>\n",
       "      <td>TED2017</td>\n",
       "      <td>05-06-2017</td>\n",
       "      <td>19-09-2017</td>\n",
       "      <td>17</td>\n",
       "      <td>['TED Residency', 'United States', 'community'...</td>\n",
       "      <td>4</td>\n",
       "      <td>[{'id': 3, 'name': 'Courageous', 'count': 24},...</td>\n",
       "      <td>[{'id': 2596, 'hero': 'https://pe.tedcdn.com/i...</td>\n",
       "      <td>https://www.ted.com/talks/duarte_geraldino_wha...</td>\n",
       "      <td>450430</td>\n",
       "      <td>156</td>\n",
       "      <td>2017</td>\n",
       "    </tr>\n",
       "    <tr>\n",
       "      <th>2546</th>\n",
       "      <td>Armando Azua-Bustos: The most Martian place on...</td>\n",
       "      <td>The most Martian place on Earth</td>\n",
       "      <td>How can you study Mars without a spaceship? He...</td>\n",
       "      <td>Armando Azua-Bustos</td>\n",
       "      <td>Astrobiologist</td>\n",
       "      <td>1</td>\n",
       "      <td>290</td>\n",
       "      <td>TED2017</td>\n",
       "      <td>23-04-2017</td>\n",
       "      <td>20-09-2017</td>\n",
       "      <td>6</td>\n",
       "      <td>['Mars', 'South America', 'TED Fellows', 'astr...</td>\n",
       "      <td>3</td>\n",
       "      <td>[{'id': 22, 'name': 'Fascinating', 'count': 32...</td>\n",
       "      <td>[{'id': 2491, 'hero': 'https://pe.tedcdn.com/i...</td>\n",
       "      <td>https://www.ted.com/talks/armando_azua_bustos_...</td>\n",
       "      <td>417470</td>\n",
       "      <td>123</td>\n",
       "      <td>2017</td>\n",
       "    </tr>\n",
       "    <tr>\n",
       "      <th>2547</th>\n",
       "      <td>Radhika Nagpal: What intelligent machines can ...</td>\n",
       "      <td>What intelligent machines can learn from a sch...</td>\n",
       "      <td>Science fiction visions of the future show us ...</td>\n",
       "      <td>Radhika Nagpal</td>\n",
       "      <td>Robotics engineer</td>\n",
       "      <td>1</td>\n",
       "      <td>651</td>\n",
       "      <td>TED2017</td>\n",
       "      <td>23-04-2017</td>\n",
       "      <td>21-09-2017</td>\n",
       "      <td>10</td>\n",
       "      <td>['AI', 'ants', 'fish', 'future', 'innovation',...</td>\n",
       "      <td>1</td>\n",
       "      <td>[{'id': 1, 'name': 'Beautiful', 'count': 14}, ...</td>\n",
       "      <td>[{'id': 2346, 'hero': 'https://pe.tedcdn.com/i...</td>\n",
       "      <td>https://www.ted.com/talks/radhika_nagpal_what_...</td>\n",
       "      <td>375647</td>\n",
       "      <td>116</td>\n",
       "      <td>2017</td>\n",
       "    </tr>\n",
       "    <tr>\n",
       "      <th>2548</th>\n",
       "      <td>Theo E.J. Wilson: A black man goes undercover ...</td>\n",
       "      <td>A black man goes undercover in the alt-right</td>\n",
       "      <td>In an unmissable talk about race and politics ...</td>\n",
       "      <td>Theo E.J. Wilson</td>\n",
       "      <td>Public intellectual</td>\n",
       "      <td>1</td>\n",
       "      <td>1100</td>\n",
       "      <td>TEDxMileHigh</td>\n",
       "      <td>07-07-2017</td>\n",
       "      <td>21-09-2017</td>\n",
       "      <td>32</td>\n",
       "      <td>['Internet', 'TEDx', 'United States', 'communi...</td>\n",
       "      <td>1</td>\n",
       "      <td>[{'id': 11, 'name': 'Longwinded', 'count': 3},...</td>\n",
       "      <td>[{'id': 2512, 'hero': 'https://pe.tedcdn.com/i...</td>\n",
       "      <td>https://www.ted.com/talks/theo_e_j_wilson_a_bl...</td>\n",
       "      <td>419309</td>\n",
       "      <td>539</td>\n",
       "      <td>2017</td>\n",
       "    </tr>\n",
       "    <tr>\n",
       "      <th>2549</th>\n",
       "      <td>Karoliina Korppoo: How a video game might help...</td>\n",
       "      <td>How a video game might help us build better ci...</td>\n",
       "      <td>With more than half of the world population li...</td>\n",
       "      <td>Karoliina Korppoo</td>\n",
       "      <td>Game designer</td>\n",
       "      <td>1</td>\n",
       "      <td>519</td>\n",
       "      <td>TED2017</td>\n",
       "      <td>23-04-2017</td>\n",
       "      <td>22-09-2017</td>\n",
       "      <td>8</td>\n",
       "      <td>['cities', 'design', 'future', 'infrastructure...</td>\n",
       "      <td>1</td>\n",
       "      <td>[{'id': 21, 'name': 'Unconvincing', 'count': 2...</td>\n",
       "      <td>[{'id': 2682, 'hero': 'https://pe.tedcdn.com/i...</td>\n",
       "      <td>https://www.ted.com/talks/karoliina_korppoo_ho...</td>\n",
       "      <td>391721</td>\n",
       "      <td>46</td>\n",
       "      <td>2017</td>\n",
       "    </tr>\n",
       "  </tbody>\n",
       "</table>\n",
       "<p>2550 rows × 19 columns</p>\n",
       "</div>"
      ],
      "text/plain": [
       "                                                   name  \\\n",
       "0             Ken Robinson: Do schools kill creativity?   \n",
       "1                  Al Gore: Averting the climate crisis   \n",
       "2                         David Pogue: Simplicity sells   \n",
       "3                    Majora Carter: Greening the ghetto   \n",
       "4         Hans Rosling: The best stats you've ever seen   \n",
       "...                                                 ...   \n",
       "2545  Duarte Geraldino: What we're missing in the de...   \n",
       "2546  Armando Azua-Bustos: The most Martian place on...   \n",
       "2547  Radhika Nagpal: What intelligent machines can ...   \n",
       "2548  Theo E.J. Wilson: A black man goes undercover ...   \n",
       "2549  Karoliina Korppoo: How a video game might help...   \n",
       "\n",
       "                                                  title  \\\n",
       "0                           Do schools kill creativity?   \n",
       "1                           Averting the climate crisis   \n",
       "2                                      Simplicity sells   \n",
       "3                                   Greening the ghetto   \n",
       "4                       The best stats you've ever seen   \n",
       "...                                                 ...   \n",
       "2545  What we're missing in the debate about immigra...   \n",
       "2546                    The most Martian place on Earth   \n",
       "2547  What intelligent machines can learn from a sch...   \n",
       "2548       A black man goes undercover in the alt-right   \n",
       "2549  How a video game might help us build better ci...   \n",
       "\n",
       "                                            description         main_speaker  \\\n",
       "0     Sir Ken Robinson makes an entertaining and pro...         Ken Robinson   \n",
       "1     With the same humor and humanity he exuded in ...              Al Gore   \n",
       "2     New York Times columnist David Pogue takes aim...          David Pogue   \n",
       "3     In an emotionally charged talk, MacArthur-winn...        Majora Carter   \n",
       "4     You've never seen data presented like this. Wi...         Hans Rosling   \n",
       "...                                                 ...                  ...   \n",
       "2545  Between 2008 and 2016, the United States depor...     Duarte Geraldino   \n",
       "2546  How can you study Mars without a spaceship? He...  Armando Azua-Bustos   \n",
       "2547  Science fiction visions of the future show us ...       Radhika Nagpal   \n",
       "2548  In an unmissable talk about race and politics ...     Theo E.J. Wilson   \n",
       "2549  With more than half of the world population li...    Karoliina Korppoo   \n",
       "\n",
       "                        speaker_occupation  num_speaker  duration  \\\n",
       "0                          Author/educator            1      1164   \n",
       "1                         Climate advocate            1       977   \n",
       "2                     Technology columnist            1      1286   \n",
       "3       Activist for environmental justice            1      1116   \n",
       "4     Global health expert; data visionary            1      1190   \n",
       "...                                    ...          ...       ...   \n",
       "2545                            Journalist            1       476   \n",
       "2546                        Astrobiologist            1       290   \n",
       "2547                     Robotics engineer            1       651   \n",
       "2548                   Public intellectual            1      1100   \n",
       "2549                         Game designer            1       519   \n",
       "\n",
       "             event   film_date published_date  comments  \\\n",
       "0          TED2006  24-02-2006     26-06-2006      4553   \n",
       "1          TED2006  24-02-2006     26-06-2006       265   \n",
       "2          TED2006  23-02-2006     26-06-2006       124   \n",
       "3          TED2006  25-02-2006     26-06-2006       200   \n",
       "4          TED2006  21-02-2006     27-06-2006       593   \n",
       "...            ...         ...            ...       ...   \n",
       "2545       TED2017  05-06-2017     19-09-2017        17   \n",
       "2546       TED2017  23-04-2017     20-09-2017         6   \n",
       "2547       TED2017  23-04-2017     21-09-2017        10   \n",
       "2548  TEDxMileHigh  07-07-2017     21-09-2017        32   \n",
       "2549       TED2017  23-04-2017     22-09-2017         8   \n",
       "\n",
       "                                                   tags  languages  \\\n",
       "0     ['children', 'creativity', 'culture', 'dance',...         60   \n",
       "1     ['alternative energy', 'cars', 'climate change...         43   \n",
       "2     ['computers', 'entertainment', 'interface desi...         26   \n",
       "3     ['MacArthur grant', 'activism', 'business', 'c...         35   \n",
       "4     ['Africa', 'Asia', 'Google', 'demo', 'economic...         48   \n",
       "...                                                 ...        ...   \n",
       "2545  ['TED Residency', 'United States', 'community'...          4   \n",
       "2546  ['Mars', 'South America', 'TED Fellows', 'astr...          3   \n",
       "2547  ['AI', 'ants', 'fish', 'future', 'innovation',...          1   \n",
       "2548  ['Internet', 'TEDx', 'United States', 'communi...          1   \n",
       "2549  ['cities', 'design', 'future', 'infrastructure...          1   \n",
       "\n",
       "                                                ratings  \\\n",
       "0     [{'id': 7, 'name': 'Funny', 'count': 19645}, {...   \n",
       "1     [{'id': 7, 'name': 'Funny', 'count': 544}, {'i...   \n",
       "2     [{'id': 7, 'name': 'Funny', 'count': 964}, {'i...   \n",
       "3     [{'id': 3, 'name': 'Courageous', 'count': 760}...   \n",
       "4     [{'id': 9, 'name': 'Ingenious', 'count': 3202}...   \n",
       "...                                                 ...   \n",
       "2545  [{'id': 3, 'name': 'Courageous', 'count': 24},...   \n",
       "2546  [{'id': 22, 'name': 'Fascinating', 'count': 32...   \n",
       "2547  [{'id': 1, 'name': 'Beautiful', 'count': 14}, ...   \n",
       "2548  [{'id': 11, 'name': 'Longwinded', 'count': 3},...   \n",
       "2549  [{'id': 21, 'name': 'Unconvincing', 'count': 2...   \n",
       "\n",
       "                                          related_talks  \\\n",
       "0     [{'id': 865, 'hero': 'https://pe.tedcdn.com/im...   \n",
       "1     [{'id': 243, 'hero': 'https://pe.tedcdn.com/im...   \n",
       "2     [{'id': 1725, 'hero': 'https://pe.tedcdn.com/i...   \n",
       "3     [{'id': 1041, 'hero': 'https://pe.tedcdn.com/i...   \n",
       "4     [{'id': 2056, 'hero': 'https://pe.tedcdn.com/i...   \n",
       "...                                                 ...   \n",
       "2545  [{'id': 2596, 'hero': 'https://pe.tedcdn.com/i...   \n",
       "2546  [{'id': 2491, 'hero': 'https://pe.tedcdn.com/i...   \n",
       "2547  [{'id': 2346, 'hero': 'https://pe.tedcdn.com/i...   \n",
       "2548  [{'id': 2512, 'hero': 'https://pe.tedcdn.com/i...   \n",
       "2549  [{'id': 2682, 'hero': 'https://pe.tedcdn.com/i...   \n",
       "\n",
       "                                                    url     views  \\\n",
       "0     https://www.ted.com/talks/ken_robinson_says_sc...  47227110   \n",
       "1     https://www.ted.com/talks/al_gore_on_averting_...   3200520   \n",
       "2     https://www.ted.com/talks/david_pogue_says_sim...   1636292   \n",
       "3     https://www.ted.com/talks/majora_carter_s_tale...   1697550   \n",
       "4     https://www.ted.com/talks/hans_rosling_shows_t...  12005869   \n",
       "...                                                 ...       ...   \n",
       "2545  https://www.ted.com/talks/duarte_geraldino_wha...    450430   \n",
       "2546  https://www.ted.com/talks/armando_azua_bustos_...    417470   \n",
       "2547  https://www.ted.com/talks/radhika_nagpal_what_...    375647   \n",
       "2548  https://www.ted.com/talks/theo_e_j_wilson_a_bl...    419309   \n",
       "2549  https://www.ted.com/talks/karoliina_korppoo_ho...    391721   \n",
       "\n",
       "      total_ratings  year  \n",
       "0             89226  2006  \n",
       "1              1402  2006  \n",
       "2              1830  2006  \n",
       "3              3246  2006  \n",
       "4             24504  2006  \n",
       "...             ...   ...  \n",
       "2545            156  2017  \n",
       "2546            123  2017  \n",
       "2547            116  2017  \n",
       "2548            539  2017  \n",
       "2549             46  2017  \n",
       "\n",
       "[2550 rows x 19 columns]"
      ]
     },
     "execution_count": 19,
     "metadata": {},
     "output_type": "execute_result"
    }
   ],
   "source": [
    "df"
   ]
  },
  {
   "cell_type": "markdown",
   "metadata": {},
   "source": [
    "<h3> Sort the dataframe base on ratings, comments and views<h3>"
   ]
  },
  {
   "cell_type": "code",
   "execution_count": 20,
   "metadata": {},
   "outputs": [
    {
     "data": {
      "text/html": [
       "<div>\n",
       "<style scoped>\n",
       "    .dataframe tbody tr th:only-of-type {\n",
       "        vertical-align: middle;\n",
       "    }\n",
       "\n",
       "    .dataframe tbody tr th {\n",
       "        vertical-align: top;\n",
       "    }\n",
       "\n",
       "    .dataframe thead th {\n",
       "        text-align: right;\n",
       "    }\n",
       "</style>\n",
       "<table border=\"1\" class=\"dataframe\">\n",
       "  <thead>\n",
       "    <tr style=\"text-align: right;\">\n",
       "      <th></th>\n",
       "      <th>title</th>\n",
       "      <th>main_speaker</th>\n",
       "      <th>views</th>\n",
       "      <th>total_ratings</th>\n",
       "    </tr>\n",
       "  </thead>\n",
       "  <tbody>\n",
       "    <tr>\n",
       "      <th>0</th>\n",
       "      <td>Do schools kill creativity?</td>\n",
       "      <td>Ken Robinson</td>\n",
       "      <td>47227110</td>\n",
       "      <td>89226</td>\n",
       "    </tr>\n",
       "    <tr>\n",
       "      <th>201</th>\n",
       "      <td>My stroke of insight</td>\n",
       "      <td>Jill Bolte Taylor</td>\n",
       "      <td>21190883</td>\n",
       "      <td>66207</td>\n",
       "    </tr>\n",
       "    <tr>\n",
       "      <th>1346</th>\n",
       "      <td>Your body language may shape who you are</td>\n",
       "      <td>Amy Cuddy</td>\n",
       "      <td>43155405</td>\n",
       "      <td>61660</td>\n",
       "    </tr>\n",
       "    <tr>\n",
       "      <th>837</th>\n",
       "      <td>The power of vulnerability</td>\n",
       "      <td>Brené Brown</td>\n",
       "      <td>31168150</td>\n",
       "      <td>57510</td>\n",
       "    </tr>\n",
       "    <tr>\n",
       "      <th>677</th>\n",
       "      <td>How great leaders inspire action</td>\n",
       "      <td>Simon Sinek</td>\n",
       "      <td>34309432</td>\n",
       "      <td>50645</td>\n",
       "    </tr>\n",
       "    <tr>\n",
       "      <th>1030</th>\n",
       "      <td>How to live before you die</td>\n",
       "      <td>Steve Jobs</td>\n",
       "      <td>8744428</td>\n",
       "      <td>35170</td>\n",
       "    </tr>\n",
       "    <tr>\n",
       "      <th>1129</th>\n",
       "      <td>The happy secret to better work</td>\n",
       "      <td>Shawn Achor</td>\n",
       "      <td>16209727</td>\n",
       "      <td>31204</td>\n",
       "    </tr>\n",
       "    <tr>\n",
       "      <th>176</th>\n",
       "      <td>Underwater astonishments</td>\n",
       "      <td>David Gallo</td>\n",
       "      <td>13926113</td>\n",
       "      <td>28607</td>\n",
       "    </tr>\n",
       "    <tr>\n",
       "      <th>530</th>\n",
       "      <td>The danger of a single story</td>\n",
       "      <td>Chimamanda Ngozi Adichie</td>\n",
       "      <td>13298341</td>\n",
       "      <td>28359</td>\n",
       "    </tr>\n",
       "    <tr>\n",
       "      <th>1163</th>\n",
       "      <td>The power of introverts</td>\n",
       "      <td>Susan Cain</td>\n",
       "      <td>17629275</td>\n",
       "      <td>28153</td>\n",
       "    </tr>\n",
       "  </tbody>\n",
       "</table>\n",
       "</div>"
      ],
      "text/plain": [
       "                                         title              main_speaker  \\\n",
       "0                  Do schools kill creativity?              Ken Robinson   \n",
       "201                       My stroke of insight         Jill Bolte Taylor   \n",
       "1346  Your body language may shape who you are                 Amy Cuddy   \n",
       "837                 The power of vulnerability               Brené Brown   \n",
       "677           How great leaders inspire action               Simon Sinek   \n",
       "1030                How to live before you die                Steve Jobs   \n",
       "1129           The happy secret to better work               Shawn Achor   \n",
       "176                   Underwater astonishments               David Gallo   \n",
       "530               The danger of a single story  Chimamanda Ngozi Adichie   \n",
       "1163                   The power of introverts                Susan Cain   \n",
       "\n",
       "         views  total_ratings  \n",
       "0     47227110          89226  \n",
       "201   21190883          66207  \n",
       "1346  43155405          61660  \n",
       "837   31168150          57510  \n",
       "677   34309432          50645  \n",
       "1030   8744428          35170  \n",
       "1129  16209727          31204  \n",
       "176   13926113          28607  \n",
       "530   13298341          28359  \n",
       "1163  17629275          28153  "
      ]
     },
     "execution_count": 20,
     "metadata": {},
     "output_type": "execute_result"
    }
   ],
   "source": [
    "df[['title', 'main_speaker', 'views', 'total_ratings']].sort_values('total_ratings', ascending=False)[:10]"
   ]
  },
  {
   "cell_type": "code",
   "execution_count": 21,
   "metadata": {},
   "outputs": [
    {
     "data": {
      "text/html": [
       "<div>\n",
       "<style scoped>\n",
       "    .dataframe tbody tr th:only-of-type {\n",
       "        vertical-align: middle;\n",
       "    }\n",
       "\n",
       "    .dataframe tbody tr th {\n",
       "        vertical-align: top;\n",
       "    }\n",
       "\n",
       "    .dataframe thead th {\n",
       "        text-align: right;\n",
       "    }\n",
       "</style>\n",
       "<table border=\"1\" class=\"dataframe\">\n",
       "  <thead>\n",
       "    <tr style=\"text-align: right;\">\n",
       "      <th></th>\n",
       "      <th>title</th>\n",
       "      <th>main_speaker</th>\n",
       "      <th>views</th>\n",
       "      <th>comments</th>\n",
       "    </tr>\n",
       "  </thead>\n",
       "  <tbody>\n",
       "    <tr>\n",
       "      <th>96</th>\n",
       "      <td>Militant atheism</td>\n",
       "      <td>Richard Dawkins</td>\n",
       "      <td>4374792</td>\n",
       "      <td>6404</td>\n",
       "    </tr>\n",
       "    <tr>\n",
       "      <th>0</th>\n",
       "      <td>Do schools kill creativity?</td>\n",
       "      <td>Ken Robinson</td>\n",
       "      <td>47227110</td>\n",
       "      <td>4553</td>\n",
       "    </tr>\n",
       "    <tr>\n",
       "      <th>644</th>\n",
       "      <td>Science can answer moral questions</td>\n",
       "      <td>Sam Harris</td>\n",
       "      <td>3433437</td>\n",
       "      <td>3356</td>\n",
       "    </tr>\n",
       "    <tr>\n",
       "      <th>201</th>\n",
       "      <td>My stroke of insight</td>\n",
       "      <td>Jill Bolte Taylor</td>\n",
       "      <td>21190883</td>\n",
       "      <td>2877</td>\n",
       "    </tr>\n",
       "    <tr>\n",
       "      <th>1787</th>\n",
       "      <td>How do you explain consciousness?</td>\n",
       "      <td>David Chalmers</td>\n",
       "      <td>2162764</td>\n",
       "      <td>2673</td>\n",
       "    </tr>\n",
       "    <tr>\n",
       "      <th>954</th>\n",
       "      <td>Taking imagination seriously</td>\n",
       "      <td>Janet Echelman</td>\n",
       "      <td>1832930</td>\n",
       "      <td>2492</td>\n",
       "    </tr>\n",
       "    <tr>\n",
       "      <th>840</th>\n",
       "      <td>On reading the Koran</td>\n",
       "      <td>Lesley Hazleton</td>\n",
       "      <td>1847256</td>\n",
       "      <td>2374</td>\n",
       "    </tr>\n",
       "    <tr>\n",
       "      <th>1346</th>\n",
       "      <td>Your body language may shape who you are</td>\n",
       "      <td>Amy Cuddy</td>\n",
       "      <td>43155405</td>\n",
       "      <td>2290</td>\n",
       "    </tr>\n",
       "    <tr>\n",
       "      <th>661</th>\n",
       "      <td>The danger of science denial</td>\n",
       "      <td>Michael Specter</td>\n",
       "      <td>1838628</td>\n",
       "      <td>2272</td>\n",
       "    </tr>\n",
       "    <tr>\n",
       "      <th>677</th>\n",
       "      <td>How great leaders inspire action</td>\n",
       "      <td>Simon Sinek</td>\n",
       "      <td>34309432</td>\n",
       "      <td>1930</td>\n",
       "    </tr>\n",
       "  </tbody>\n",
       "</table>\n",
       "</div>"
      ],
      "text/plain": [
       "                                         title       main_speaker     views  \\\n",
       "96                            Militant atheism    Richard Dawkins   4374792   \n",
       "0                  Do schools kill creativity?       Ken Robinson  47227110   \n",
       "644         Science can answer moral questions         Sam Harris   3433437   \n",
       "201                       My stroke of insight  Jill Bolte Taylor  21190883   \n",
       "1787         How do you explain consciousness?     David Chalmers   2162764   \n",
       "954               Taking imagination seriously     Janet Echelman   1832930   \n",
       "840                       On reading the Koran    Lesley Hazleton   1847256   \n",
       "1346  Your body language may shape who you are          Amy Cuddy  43155405   \n",
       "661               The danger of science denial    Michael Specter   1838628   \n",
       "677           How great leaders inspire action        Simon Sinek  34309432   \n",
       "\n",
       "      comments  \n",
       "96        6404  \n",
       "0         4553  \n",
       "644       3356  \n",
       "201       2877  \n",
       "1787      2673  \n",
       "954       2492  \n",
       "840       2374  \n",
       "1346      2290  \n",
       "661       2272  \n",
       "677       1930  "
      ]
     },
     "execution_count": 21,
     "metadata": {},
     "output_type": "execute_result"
    }
   ],
   "source": [
    "df[['title', 'main_speaker', 'views', 'comments']].sort_values('comments', ascending=False)[:10]"
   ]
  },
  {
   "cell_type": "code",
   "execution_count": 22,
   "metadata": {},
   "outputs": [
    {
     "data": {
      "text/html": [
       "<div>\n",
       "<style scoped>\n",
       "    .dataframe tbody tr th:only-of-type {\n",
       "        vertical-align: middle;\n",
       "    }\n",
       "\n",
       "    .dataframe tbody tr th {\n",
       "        vertical-align: top;\n",
       "    }\n",
       "\n",
       "    .dataframe thead th {\n",
       "        text-align: right;\n",
       "    }\n",
       "</style>\n",
       "<table border=\"1\" class=\"dataframe\">\n",
       "  <thead>\n",
       "    <tr style=\"text-align: right;\">\n",
       "      <th></th>\n",
       "      <th>title</th>\n",
       "      <th>main_speaker</th>\n",
       "      <th>views</th>\n",
       "      <th>total_ratings</th>\n",
       "    </tr>\n",
       "  </thead>\n",
       "  <tbody>\n",
       "    <tr>\n",
       "      <th>0</th>\n",
       "      <td>Do schools kill creativity?</td>\n",
       "      <td>Ken Robinson</td>\n",
       "      <td>47227110</td>\n",
       "      <td>89226</td>\n",
       "    </tr>\n",
       "    <tr>\n",
       "      <th>1346</th>\n",
       "      <td>Your body language may shape who you are</td>\n",
       "      <td>Amy Cuddy</td>\n",
       "      <td>43155405</td>\n",
       "      <td>61660</td>\n",
       "    </tr>\n",
       "    <tr>\n",
       "      <th>677</th>\n",
       "      <td>How great leaders inspire action</td>\n",
       "      <td>Simon Sinek</td>\n",
       "      <td>34309432</td>\n",
       "      <td>50645</td>\n",
       "    </tr>\n",
       "    <tr>\n",
       "      <th>837</th>\n",
       "      <td>The power of vulnerability</td>\n",
       "      <td>Brené Brown</td>\n",
       "      <td>31168150</td>\n",
       "      <td>57510</td>\n",
       "    </tr>\n",
       "    <tr>\n",
       "      <th>452</th>\n",
       "      <td>10 things you didn't know about orgasm</td>\n",
       "      <td>Mary Roach</td>\n",
       "      <td>22270883</td>\n",
       "      <td>8413</td>\n",
       "    </tr>\n",
       "    <tr>\n",
       "      <th>1776</th>\n",
       "      <td>How to speak so that people want to listen</td>\n",
       "      <td>Julian Treasure</td>\n",
       "      <td>21594632</td>\n",
       "      <td>15500</td>\n",
       "    </tr>\n",
       "    <tr>\n",
       "      <th>201</th>\n",
       "      <td>My stroke of insight</td>\n",
       "      <td>Jill Bolte Taylor</td>\n",
       "      <td>21190883</td>\n",
       "      <td>66207</td>\n",
       "    </tr>\n",
       "    <tr>\n",
       "      <th>5</th>\n",
       "      <td>Why we do what we do</td>\n",
       "      <td>Tony Robbins</td>\n",
       "      <td>20685401</td>\n",
       "      <td>11878</td>\n",
       "    </tr>\n",
       "    <tr>\n",
       "      <th>2114</th>\n",
       "      <td>This is what happens when you reply to spam email</td>\n",
       "      <td>James Veitch</td>\n",
       "      <td>20475972</td>\n",
       "      <td>11704</td>\n",
       "    </tr>\n",
       "    <tr>\n",
       "      <th>1416</th>\n",
       "      <td>Looks aren't everything. Believe me, I'm a model.</td>\n",
       "      <td>Cameron Russell</td>\n",
       "      <td>19787465</td>\n",
       "      <td>6348</td>\n",
       "    </tr>\n",
       "  </tbody>\n",
       "</table>\n",
       "</div>"
      ],
      "text/plain": [
       "                                                  title       main_speaker  \\\n",
       "0                           Do schools kill creativity?       Ken Robinson   \n",
       "1346           Your body language may shape who you are          Amy Cuddy   \n",
       "677                    How great leaders inspire action        Simon Sinek   \n",
       "837                          The power of vulnerability        Brené Brown   \n",
       "452              10 things you didn't know about orgasm         Mary Roach   \n",
       "1776         How to speak so that people want to listen    Julian Treasure   \n",
       "201                                My stroke of insight  Jill Bolte Taylor   \n",
       "5                                  Why we do what we do       Tony Robbins   \n",
       "2114  This is what happens when you reply to spam email       James Veitch   \n",
       "1416  Looks aren't everything. Believe me, I'm a model.    Cameron Russell   \n",
       "\n",
       "         views  total_ratings  \n",
       "0     47227110          89226  \n",
       "1346  43155405          61660  \n",
       "677   34309432          50645  \n",
       "837   31168150          57510  \n",
       "452   22270883           8413  \n",
       "1776  21594632          15500  \n",
       "201   21190883          66207  \n",
       "5     20685401          11878  \n",
       "2114  20475972          11704  \n",
       "1416  19787465           6348  "
      ]
     },
     "execution_count": 22,
     "metadata": {},
     "output_type": "execute_result"
    }
   ],
   "source": [
    "df[['title', 'main_speaker', 'views', 'total_ratings']].sort_values('views', ascending=False)[:10]"
   ]
  },
  {
   "cell_type": "markdown",
   "metadata": {},
   "source": [
    "<h3> Add title word count as a column to the dataframe<h3>"
   ]
  },
  {
   "cell_type": "code",
   "execution_count": 23,
   "metadata": {},
   "outputs": [],
   "source": [
    "Words_in_title = []\n",
    "for item in df['title']:\n",
    "    Words_in_title.append(len(item.split()))\n",
    "        \n",
    "df['words_in_title'] = Words_in_title"
   ]
  },
  {
   "cell_type": "markdown",
   "metadata": {},
   "source": [
    "<h3>Plots<h3>"
   ]
  },
  {
   "cell_type": "code",
   "execution_count": 24,
   "metadata": {},
   "outputs": [
    {
     "data": {
      "image/png": "[encoded data removed]",
      "text/plain": [
       "<Figure size 432x288 with 1 Axes>"
      ]
     },
     "metadata": {
      "needs_background": "light"
     },
     "output_type": "display_data"
    }
   ],
   "source": [
    "sns.regplot(x='total_ratings', y='year', data=df)\n",
    "plt.show()"
   ]
  },
  {
   "cell_type": "code",
   "execution_count": 25,
   "metadata": {},
   "outputs": [
    {
     "data": {
      "image/png": "[encoded data removed]",
      "text/plain": [
       "<Figure size 432x432 with 3 Axes>"
      ]
     },
     "metadata": {
      "needs_background": "light"
     },
     "output_type": "display_data"
    }
   ],
   "source": [
    "sns.jointplot(x='total_ratings', y='year', data=df)\n",
    "plt.show()"
   ]
  },
  {
   "cell_type": "code",
   "execution_count": 26,
   "metadata": {},
   "outputs": [
    {
     "data": {
      "image/png": "[encoded data removed]",
      "text/plain": [
       "<Figure size 432x432 with 3 Axes>"
      ]
     },
     "metadata": {
      "needs_background": "light"
     },
     "output_type": "display_data"
    }
   ],
   "source": [
    "sns.jointplot(x='total_ratings', y='duration', data=df)\n",
    "plt.show()"
   ]
  },
  {
   "cell_type": "code",
   "execution_count": 27,
   "metadata": {},
   "outputs": [
    {
     "data": {
      "image/png": "[encoded data removed]",
      "text/plain": [
       "<Figure size 432x288 with 1 Axes>"
      ]
     },
     "metadata": {
      "needs_background": "light"
     },
     "output_type": "display_data"
    }
   ],
   "source": [
    "sns.regplot(x='total_ratings', y='duration', data=df)\n",
    "plt.show()"
   ]
  },
  {
   "cell_type": "code",
   "execution_count": 28,
   "metadata": {},
   "outputs": [
    {
     "data": {
      "image/png": "[encoded data removed]",
      "text/plain": [
       "<Figure size 432x432 with 3 Axes>"
      ]
     },
     "metadata": {
      "needs_background": "light"
     },
     "output_type": "display_data"
    }
   ],
   "source": [
    "sns.jointplot(x='total_ratings', y='duration', data=df)\n",
    "plt.show()"
   ]
  },
  {
   "cell_type": "code",
   "execution_count": 29,
   "metadata": {},
   "outputs": [
    {
     "data": {
      "text/plain": [
       "<matplotlib.axes._subplots.AxesSubplot at 0x7f411886cb80>"
      ]
     },
     "execution_count": 29,
     "metadata": {},
     "output_type": "execute_result"
    },
    {
     "data": {
      "image/png": "[encoded data removed]",
      "text/plain": [
       "<Figure size 432x288 with 1 Axes>"
      ]
     },
     "metadata": {
      "needs_background": "light"
     },
     "output_type": "display_data"
    }
   ],
   "source": [
    "sns.regplot(x='total_ratings', y='comments', data=df)\n"
   ]
  },
  {
   "cell_type": "code",
   "execution_count": 30,
   "metadata": {},
   "outputs": [
    {
     "data": {
      "image/png": "[encoded data removed]",
      "text/plain": [
       "<Figure size 432x288 with 1 Axes>"
      ]
     },
     "metadata": {
      "needs_background": "light"
     },
     "output_type": "display_data"
    }
   ],
   "source": [
    "sns.regplot(x='views', y='words_in_title', data=df)\n",
    "plt.show()"
   ]
  },
  {
   "cell_type": "code",
   "execution_count": 31,
   "metadata": {},
   "outputs": [
    {
     "data": {
      "image/png": "[encoded data removed]",
      "text/plain": [
       "<Figure size 432x432 with 3 Axes>"
      ]
     },
     "metadata": {
      "needs_background": "light"
     },
     "output_type": "display_data"
    }
   ],
   "source": [
    "sns.jointplot(x='views', y='words_in_title', data=df)\n",
    "plt.show()"
   ]
  },
  {
   "cell_type": "code",
   "execution_count": 32,
   "metadata": {},
   "outputs": [
    {
     "data": {
      "image/png": "[encoded data removed]",
      "text/plain": [
       "<Figure size 432x432 with 3 Axes>"
      ]
     },
     "metadata": {
      "needs_background": "light"
     },
     "output_type": "display_data"
    }
   ],
   "source": [
    "sns.jointplot(x='comments', y='duration', data=df)\n",
    "plt.show()"
   ]
  },
  {
   "cell_type": "code",
   "execution_count": 33,
   "metadata": {},
   "outputs": [
    {
     "data": {
      "image/png": "[encoded data removed]",
      "text/plain": [
       "<Figure size 432x432 with 3 Axes>"
      ]
     },
     "metadata": {
      "needs_background": "light"
     },
     "output_type": "display_data"
    }
   ],
   "source": [
    "sns.jointplot(x='comments', y='views', data=df)\n",
    "plt.show()"
   ]
  },
  {
   "cell_type": "code",
   "execution_count": 34,
   "metadata": {},
   "outputs": [
    {
     "data": {
      "image/png": "[encoded data removed]",
      "text/plain": [
       "<Figure size 432x432 with 3 Axes>"
      ]
     },
     "metadata": {
      "needs_background": "light"
     },
     "output_type": "display_data"
    }
   ],
   "source": [
    "sns.jointplot(x='comments', y='year', data=df)\n",
    "plt.show()"
   ]
  },
  {
   "cell_type": "code",
   "execution_count": 35,
   "metadata": {},
   "outputs": [
    {
     "data": {
      "image/png": "[encoded data removed]",
      "text/plain": [
       "<Figure size 432x432 with 3 Axes>"
      ]
     },
     "metadata": {
      "needs_background": "light"
     },
     "output_type": "display_data"
    }
   ],
   "source": [
    "sns.jointplot(x='total_ratings', y='year', data=df)\n",
    "plt.show()"
   ]
  },
  {
   "cell_type": "code",
   "execution_count": 36,
   "metadata": {},
   "outputs": [
    {
     "data": {
      "image/png": "[encoded data removed]",
      "text/plain": [
       "<Figure size 432x432 with 3 Axes>"
      ]
     },
     "metadata": {
      "needs_background": "light"
     },
     "output_type": "display_data"
    }
   ],
   "source": [
    "sns.jointplot(x='languages', y='views', data=df)\n",
    "plt.show()"
   ]
  },
  {
   "cell_type": "code",
   "execution_count": 37,
   "metadata": {},
   "outputs": [],
   "source": [
    "df['duration'] = df['duration']//60"
   ]
  },
  {
   "cell_type": "markdown",
   "metadata": {},
   "source": [
    "<h3>Find five top speakers<h3>"
   ]
  },
  {
   "cell_type": "code",
   "execution_count": 38,
   "metadata": {},
   "outputs": [],
   "source": [
    "speaker_df = df.groupby('main_speaker').count().reset_index()[['main_speaker', 'comments']]\n",
    "speaker_df.columns = ['main_speaker', 'appearances']\n",
    "speaker_df = speaker_df.sort_values('appearances', ascending=False)\n",
    "speaker_df.head(5)\n",
    "speaker_df.head(5).to_csv('./topspeakers.csv')"
   ]
  },
  {
   "cell_type": "markdown",
   "metadata": {},
   "source": [
    "<h3> Calculate total ratings for each top speakers <h3>"
   ]
  },
  {
   "cell_type": "code",
   "execution_count": 39,
   "metadata": {},
   "outputs": [],
   "source": [
    "def ratings(speaker_name):\n",
    "    each_video = []\n",
    "    ratings = []\n",
    "    total = 0\n",
    "    Ingenious = 0\n",
    "    Funny = 0\n",
    "    Beautiful = 0\n",
    "    Courageous = 0\n",
    "    Informative = 0\n",
    "    Inspiring = 0\n",
    "    Fascinating = 0\n",
    "    Jaw_dropping = 0\n",
    "    Persuasive = 0\n",
    "    Confusing = 0\n",
    "    Longwinded = 0\n",
    "    Unconvincing = 0\n",
    "    OK = 0\n",
    "    Obnoxious = 0\n",
    "    \n",
    "    for index, row in df.iterrows():\n",
    "        \n",
    "        if (row['main_speaker'] == speaker_name):\n",
    "            \n",
    "            for dct in row['ratings']:\n",
    "\n",
    "                if (dct['id'] == 9):\n",
    "                    Ingenious += dct['count']\n",
    "\n",
    "                if (dct['id'] == 7):\n",
    "                    Funny += dct['count']\n",
    "\n",
    "                if (dct['id'] == 1):\n",
    "                    Beautiful += dct['count']\n",
    "\n",
    "                if (dct['id'] == 3):\n",
    "                    Courageous += dct['count']\n",
    "\n",
    "                if (dct['id'] == 8):\n",
    "                    Informative += dct['count']\n",
    "\n",
    "                if (dct['id'] == 10):\n",
    "                    Inspiring += dct['count']\n",
    "\n",
    "                if (dct['id'] == 22):\n",
    "                    Fascinating += dct['count']\n",
    "\n",
    "                if (dct['id'] == 23):\n",
    "                    Jaw_dropping += dct['count']\n",
    "\n",
    "                if (dct['id'] == 24):\n",
    "                    Persuasive += dct['count']\n",
    "\n",
    "                if (dct['id'] == 2):\n",
    "                    Confusing += dct['count']\n",
    "\n",
    "                if (dct['id'] == 11):\n",
    "                    Longwinded += dct['count']\n",
    "\n",
    "                if (dct['id'] == 21):\n",
    "                    Unconvincing += dct['count']\n",
    "\n",
    "                if (dct['id'] == 25):\n",
    "                    OK += dct['count']\n",
    "\n",
    "                if (dct['id'] == 26):\n",
    "                    Obnoxious += dct['count']\n",
    "            \n",
    "            \n",
    "            \n",
    "    ratings.append({'Ingenious': Ingenious, 'Funny': Funny, 'Beautiful':Beautiful,\n",
    "                    'Courageous': Courageous, 'Informative': Informative, 'Inspiring': Inspiring,\n",
    "                    'Fascinating': Fascinating, 'Jaw_dropping': Jaw_dropping,\n",
    "                    'Persuasive': Persuasive, 'Confusing': Confusing, 'Longwinded': Longwinded,\n",
    "                    'Unconvincing': Unconvincing, 'OK':OK, 'Obnoxious': Obnoxious})\n",
    "\n",
    "    total = (Ingenious + Funny + Beautiful + Courageous + Informative + Inspiring + Fascinating + Jaw_dropping + Persuasive) - (Confusing + Longwinded + Unconvincing + OK + Obnoxious)\n",
    "    \n",
    "    return ratings, total"
   ]
  },
  {
   "cell_type": "code",
   "execution_count": 40,
   "metadata": {},
   "outputs": [
    {
     "data": {
      "text/plain": [
       "([{'Ingenious': 5891,\n",
       "   'Funny': 4705,\n",
       "   'Beautiful': 1774,\n",
       "   'Courageous': 1103,\n",
       "   'Informative': 12583,\n",
       "   'Inspiring': 7723,\n",
       "   'Fascinating': 9967,\n",
       "   'Jaw_dropping': 10193,\n",
       "   'Persuasive': 7321,\n",
       "   'Confusing': 222,\n",
       "   'Longwinded': 221,\n",
       "   'Unconvincing': 328,\n",
       "   'OK': 761,\n",
       "   'Obnoxious': 169}],\n",
       " 59559)"
      ]
     },
     "execution_count": 40,
     "metadata": {},
     "output_type": "execute_result"
    }
   ],
   "source": [
    "ratings('Hans Rosling')"
   ]
  },
  {
   "cell_type": "code",
   "execution_count": 41,
   "metadata": {},
   "outputs": [
    {
     "data": {
      "text/plain": [
       "([{'Ingenious': 1189,\n",
       "   'Funny': 1036,\n",
       "   'Beautiful': 264,\n",
       "   'Courageous': 505,\n",
       "   'Informative': 3760,\n",
       "   'Inspiring': 1886,\n",
       "   'Fascinating': 4454,\n",
       "   'Jaw_dropping': 2610,\n",
       "   'Persuasive': 2595,\n",
       "   'Confusing': 172,\n",
       "   'Longwinded': 213,\n",
       "   'Unconvincing': 465,\n",
       "   'OK': 436,\n",
       "   'Obnoxious': 194}],\n",
       " 16819)"
      ]
     },
     "execution_count": 41,
     "metadata": {},
     "output_type": "execute_result"
    }
   ],
   "source": [
    "ratings('Juan Enriquez')"
   ]
  },
  {
   "cell_type": "code",
   "execution_count": 42,
   "metadata": {},
   "outputs": [
    {
     "data": {
      "text/plain": [
       "([{'Ingenious': 2022,\n",
       "   'Funny': 5073,\n",
       "   'Beautiful': 1798,\n",
       "   'Courageous': 140,\n",
       "   'Informative': 371,\n",
       "   'Inspiring': 923,\n",
       "   'Fascinating': 1571,\n",
       "   'Jaw_dropping': 560,\n",
       "   'Persuasive': 152,\n",
       "   'Confusing': 253,\n",
       "   'Longwinded': 179,\n",
       "   'Unconvincing': 319,\n",
       "   'OK': 736,\n",
       "   'Obnoxious': 218}],\n",
       " 10905)"
      ]
     },
     "execution_count": 42,
     "metadata": {},
     "output_type": "execute_result"
    }
   ],
   "source": [
    "ratings('Rives')"
   ]
  },
  {
   "cell_type": "code",
   "execution_count": 43,
   "metadata": {},
   "outputs": [
    {
     "data": {
      "text/plain": [
       "([{'Ingenious': 2380,\n",
       "   'Funny': 2018,\n",
       "   'Beautiful': 2918,\n",
       "   'Courageous': 99,\n",
       "   'Informative': 662,\n",
       "   'Inspiring': 1406,\n",
       "   'Fascinating': 3640,\n",
       "   'Jaw_dropping': 2631,\n",
       "   'Persuasive': 224,\n",
       "   'Confusing': 114,\n",
       "   'Longwinded': 150,\n",
       "   'Unconvincing': 424,\n",
       "   'OK': 808,\n",
       "   'Obnoxious': 190}],\n",
       " 14292)"
      ]
     },
     "execution_count": 43,
     "metadata": {},
     "output_type": "execute_result"
    }
   ],
   "source": [
    "ratings('Marco Tempest')"
   ]
  },
  {
   "cell_type": "code",
   "execution_count": 44,
   "metadata": {},
   "outputs": [
    {
     "data": {
      "text/plain": [
       "([{'Ingenious': 577,\n",
       "   'Funny': 175,\n",
       "   'Beautiful': 105,\n",
       "   'Courageous': 542,\n",
       "   'Informative': 3455,\n",
       "   'Inspiring': 1949,\n",
       "   'Fascinating': 1442,\n",
       "   'Jaw_dropping': 552,\n",
       "   'Persuasive': 2748,\n",
       "   'Confusing': 84,\n",
       "   'Longwinded': 117,\n",
       "   'Unconvincing': 124,\n",
       "   'OK': 344,\n",
       "   'Obnoxious': 56}],\n",
       " 10820)"
      ]
     },
     "execution_count": 44,
     "metadata": {},
     "output_type": "execute_result"
    }
   ],
   "source": [
    "ratings('Clay Shirky')"
   ]
  },
  {
   "cell_type": "markdown",
   "metadata": {},
   "source": [
    "<h3>Calculate ratings for each video of speakers<h3>"
   ]
  },
  {
   "cell_type": "code",
   "execution_count": 45,
   "metadata": {},
   "outputs": [],
   "source": [
    "def ratings_each_video(speaker_name):\n",
    "    each_video = []\n",
    "    total = 0\n",
    "    positive = 0\n",
    "    positive_list = []\n",
    "    negative = 0\n",
    "    negative_list = []\n",
    "    ratings = []\n",
    "    Ingenious = 0\n",
    "    Funny = 0\n",
    "    Beautiful = 0\n",
    "    Courageous = 0\n",
    "    Informative = 0\n",
    "    Inspiring = 0\n",
    "    Fascinating = 0\n",
    "    Jaw_dropping = 0\n",
    "    Persuasive = 0\n",
    "    Confusing = 0\n",
    "    Longwinded = 0\n",
    "    Unconvincing = 0\n",
    "    OK = 0\n",
    "    Obnoxious = 0\n",
    "    \n",
    "    for index, row in df.iterrows():\n",
    "        \n",
    "        if (row['main_speaker'] == speaker_name):\n",
    "            total = 0\n",
    "            positive = 0\n",
    "            negative = 0\n",
    "            for dct in row['ratings']:\n",
    "\n",
    "                \n",
    "            \n",
    "                total += dct['count']\n",
    "                \n",
    "                if (dct['name'] in ('Beautiful', 'Ingenious', 'Funny', 'Courageous', 'Informative', \n",
    "                                    'Fascinating', 'Jaw-dropping', 'Persuasive', 'Inspiring')):\n",
    "                    positive += dct['count']\n",
    "                else:\n",
    "                    negative += dct['count']\n",
    "                    \n",
    "            each_video.append(total)\n",
    "            positive_list.append(positive)\n",
    "            \n",
    "            negative_list.append(negative)\n",
    "\n",
    "            #print(total)\n",
    "\n",
    "\n",
    "    total = Ingenious + Funny + Inspiring + Beautiful + Courageous + Informative + Fascinating \n",
    "    + Jaw_dropping + Persuasive + Confusing + Longwinded + Unconvincing + OK + Obnoxious\n",
    "    \n",
    "    return each_video, positive_list, negative_list\n"
   ]
  },
  {
   "cell_type": "code",
   "execution_count": 46,
   "metadata": {},
   "outputs": [
    {
     "data": {
      "text/plain": [
       "([25620, 12783, 1565, 3132, 3926, 4637, 2493, 4716, 4089],\n",
       " [25062, 12596, 1478, 3065, 3792, 4345, 2425, 4541, 3956],\n",
       " [558, 187, 87, 67, 134, 292, 68, 175, 133])"
      ]
     },
     "execution_count": 46,
     "metadata": {},
     "output_type": "execute_result"
    }
   ],
   "source": [
    "ratings_each_video('Hans Rosling')"
   ]
  },
  {
   "cell_type": "code",
   "execution_count": 47,
   "metadata": {},
   "outputs": [
    {
     "data": {
      "text/plain": [
       "([1374, 2829, 5260, 4632, 1493, 1490, 2701],\n",
       " [1293, 2456, 4916, 4406, 1221, 1409, 2598],\n",
       " [81, 373, 344, 226, 272, 81, 103])"
      ]
     },
     "execution_count": 47,
     "metadata": {},
     "output_type": "execute_result"
    }
   ],
   "source": [
    "ratings_each_video('Juan Enriquez')"
   ]
  },
  {
   "cell_type": "code",
   "execution_count": 48,
   "metadata": {},
   "outputs": [
    {
     "data": {
      "text/plain": [
       "([2649, 1028, 4960, 1824, 1172, 2682],\n",
       " [2299, 980, 4346, 1406, 1105, 2474],\n",
       " [350, 48, 614, 418, 67, 208])"
      ]
     },
     "execution_count": 48,
     "metadata": {},
     "output_type": "execute_result"
    }
   ],
   "source": [
    "ratings_each_video('Rives')"
   ]
  },
  {
   "cell_type": "code",
   "execution_count": 49,
   "metadata": {},
   "outputs": [
    {
     "data": {
      "text/plain": [
       "([7303, 1631, 2150, 3040, 1919, 1621],\n",
       " [6861, 1399, 1925, 2873, 1720, 1200],\n",
       " [442, 232, 225, 167, 199, 421])"
      ]
     },
     "execution_count": 49,
     "metadata": {},
     "output_type": "execute_result"
    }
   ],
   "source": [
    "ratings_each_video('Marco Tempest')"
   ]
  },
  {
   "cell_type": "code",
   "execution_count": 50,
   "metadata": {},
   "outputs": [
    {
     "data": {
      "text/plain": [
       "([1930, 2516, 1846, 4293, 1685],\n",
       " [1800, 2294, 1659, 4161, 1631],\n",
       " [130, 222, 187, 132, 54])"
      ]
     },
     "execution_count": 50,
     "metadata": {},
     "output_type": "execute_result"
    }
   ],
   "source": [
    "ratings_each_video('Clay Shirky')"
   ]
  },
  {
   "cell_type": "markdown",
   "metadata": {},
   "source": [
    "<h3>Calculate video durations of speakers<h3>"
   ]
  },
  {
   "cell_type": "code",
   "execution_count": 51,
   "metadata": {},
   "outputs": [],
   "source": [
    "def durations(speaker_name):\n",
    "    \n",
    "    speaker_duration = []\n",
    "    \n",
    "    for index, row in df.iterrows():\n",
    "        \n",
    "        if (row['main_speaker'] == speaker_name):\n",
    "\n",
    "            speaker_duration.append(row['duration'])\n",
    "    \n",
    "    return speaker_duration"
   ]
  },
  {
   "cell_type": "markdown",
   "metadata": {},
   "source": [
    "<h3>Calculate total views of speakers' videos<h3>"
   ]
  },
  {
   "cell_type": "code",
   "execution_count": 52,
   "metadata": {},
   "outputs": [],
   "source": [
    "def views_total(speaker_name):\n",
    "    \n",
    "    views = []\n",
    "    sum = 0\n",
    "    \n",
    "    for index, row in df.iterrows():\n",
    "        \n",
    "        if (row['main_speaker'] == speaker_name):\n",
    "\n",
    "            sum += row['views']\n",
    "    views.append(sum)\n",
    "    \n",
    "    return views"
   ]
  },
  {
   "cell_type": "code",
   "execution_count": 53,
   "metadata": {},
   "outputs": [
    {
     "data": {
      "text/plain": [
       "[27567127]"
      ]
     },
     "execution_count": 53,
     "metadata": {},
     "output_type": "execute_result"
    }
   ],
   "source": [
    "views_total('Hans Rosling')\n"
   ]
  },
  {
   "cell_type": "code",
   "execution_count": 54,
   "metadata": {},
   "outputs": [
    {
     "data": {
      "text/plain": [
       "[12559364]"
      ]
     },
     "execution_count": 54,
     "metadata": {},
     "output_type": "execute_result"
    }
   ],
   "source": [
    "views_total('Juan Enriquez')\n"
   ]
  },
  {
   "cell_type": "code",
   "execution_count": 55,
   "metadata": {},
   "outputs": [
    {
     "data": {
      "text/plain": [
       "[9988660]"
      ]
     },
     "execution_count": 55,
     "metadata": {},
     "output_type": "execute_result"
    }
   ],
   "source": [
    "views_total('Rives')\n"
   ]
  },
  {
   "cell_type": "code",
   "execution_count": 56,
   "metadata": {},
   "outputs": [
    {
     "data": {
      "text/plain": [
       "[13356940]"
      ]
     },
     "execution_count": 56,
     "metadata": {},
     "output_type": "execute_result"
    }
   ],
   "source": [
    "views_total('Marco Tempest')\n"
   ]
  },
  {
   "cell_type": "code",
   "execution_count": 57,
   "metadata": {},
   "outputs": [
    {
     "data": {
      "text/plain": [
       "[6250431]"
      ]
     },
     "execution_count": 57,
     "metadata": {},
     "output_type": "execute_result"
    }
   ],
   "source": [
    "views_total('Clay Shirky')"
   ]
  },
  {
   "cell_type": "markdown",
   "metadata": {},
   "source": [
    "<h3>Calculate total comment count of speakers' videos<h3>"
   ]
  },
  {
   "cell_type": "code",
   "execution_count": 58,
   "metadata": {},
   "outputs": [],
   "source": [
    "def comments_total(speaker_name):\n",
    "    \n",
    "    comments = []\n",
    "    sum = 0\n",
    "    \n",
    "    for index, row in df.iterrows():\n",
    "        \n",
    "        if (row['main_speaker'] == speaker_name):\n",
    "\n",
    "            sum += row['comments']\n",
    "    comments.append(sum)\n",
    "    \n",
    "    return comments"
   ]
  },
  {
   "cell_type": "code",
   "execution_count": 59,
   "metadata": {},
   "outputs": [
    {
     "data": {
      "text/plain": [
       "[3085]"
      ]
     },
     "execution_count": 59,
     "metadata": {},
     "output_type": "execute_result"
    }
   ],
   "source": [
    "comments_total('Hans Rosling')"
   ]
  },
  {
   "cell_type": "code",
   "execution_count": 60,
   "metadata": {},
   "outputs": [
    {
     "data": {
      "text/plain": [
       "[1384]"
      ]
     },
     "execution_count": 60,
     "metadata": {},
     "output_type": "execute_result"
    }
   ],
   "source": [
    "comments_total('Juan Enriquez')\n"
   ]
  },
  {
   "cell_type": "code",
   "execution_count": 61,
   "metadata": {},
   "outputs": [
    {
     "data": {
      "text/plain": [
       "[773]"
      ]
     },
     "execution_count": 61,
     "metadata": {},
     "output_type": "execute_result"
    }
   ],
   "source": [
    "comments_total('Rives')"
   ]
  },
  {
   "cell_type": "code",
   "execution_count": 62,
   "metadata": {},
   "outputs": [
    {
     "data": {
      "text/plain": [
       "[951]"
      ]
     },
     "execution_count": 62,
     "metadata": {},
     "output_type": "execute_result"
    }
   ],
   "source": [
    "comments_total('Marco Tempest')"
   ]
  },
  {
   "cell_type": "code",
   "execution_count": 63,
   "metadata": {},
   "outputs": [
    {
     "data": {
      "text/plain": [
       "[1593]"
      ]
     },
     "execution_count": 63,
     "metadata": {},
     "output_type": "execute_result"
    }
   ],
   "source": [
    "comments_total('Clay Shirky')"
   ]
  },
  {
   "cell_type": "code",
   "execution_count": 64,
   "metadata": {},
   "outputs": [],
   "source": [
    "def views_per_video(speaker_name):\n",
    "    \n",
    "    views = []\n",
    "    \n",
    "    for index, row in df.iterrows():\n",
    "        \n",
    "        if (row['main_speaker'] == speaker_name):\n",
    "\n",
    "            views.append(row['views'])\n",
    "    \n",
    "    return views"
   ]
  },
  {
   "cell_type": "code",
   "execution_count": 65,
   "metadata": {},
   "outputs": [],
   "source": [
    "def comments_per_video(speaker_name):\n",
    "    \n",
    "    comments = []\n",
    "    \n",
    "    for index, row in df.iterrows():\n",
    "        \n",
    "        if (row['main_speaker'] == speaker_name):\n",
    "            comments.append(row['comments'])\n",
    "    \n",
    "    return comments"
   ]
  },
  {
   "cell_type": "code",
   "execution_count": 66,
   "metadata": {},
   "outputs": [],
   "source": [
    "def published_date(speaker_name):\n",
    "    \n",
    "    published_date = []\n",
    "    \n",
    "    for index, row in df.iterrows():\n",
    "        \n",
    "        if (row['main_speaker'] == speaker_name):\n",
    "\n",
    "            published_date.append(row['published_date'])\n",
    "    \n",
    "    return published_date"
   ]
  },
  {
   "cell_type": "code",
   "execution_count": 67,
   "metadata": {},
   "outputs": [
    {
     "data": {
      "text/plain": [
       "['10-07-2008', '15-06-2009', '28-06-2010', '18-01-2012', '25-09-2012']"
      ]
     },
     "execution_count": 67,
     "metadata": {},
     "output_type": "execute_result"
    }
   ],
   "source": [
    "published_date('Clay Shirky')"
   ]
  },
  {
   "cell_type": "code",
   "execution_count": 68,
   "metadata": {},
   "outputs": [],
   "source": [
    "def year(speaker_name):\n",
    "    \n",
    "    year = []\n",
    "    \n",
    "    for index, row in df.iterrows():\n",
    "        \n",
    "        if (row['main_speaker'] == speaker_name):\n",
    "            year.append(int(row['published_date'][6:]))\n",
    "    \n",
    "    return year"
   ]
  },
  {
   "cell_type": "code",
   "execution_count": 69,
   "metadata": {},
   "outputs": [
    {
     "data": {
      "text/plain": [
       "[2006, 2007, 2009, 2009, 2009, 2010, 2010, 2011, 2012]"
      ]
     },
     "execution_count": 69,
     "metadata": {},
     "output_type": "execute_result"
    }
   ],
   "source": [
    "year('Hans Rosling')"
   ]
  },
  {
   "cell_type": "code",
   "execution_count": 70,
   "metadata": {},
   "outputs": [
    {
     "data": {
      "text/plain": [
       "0              Ken Robinson\n",
       "1                   Al Gore\n",
       "2               David Pogue\n",
       "3             Majora Carter\n",
       "4              Hans Rosling\n",
       "               ...         \n",
       "2545       Duarte Geraldino\n",
       "2546    Armando Azua-Bustos\n",
       "2547         Radhika Nagpal\n",
       "2548       Theo E.J. Wilson\n",
       "2549      Karoliina Korppoo\n",
       "Name: main_speaker, Length: 2550, dtype: object"
      ]
     },
     "execution_count": 70,
     "metadata": {},
     "output_type": "execute_result"
    }
   ],
   "source": [
    "df['main_speaker']"
   ]
  },
  {
   "cell_type": "code",
   "execution_count": 71,
   "metadata": {},
   "outputs": [],
   "source": [
    "def title(speaker_name):\n",
    "    \n",
    "    title = []\n",
    "    \n",
    "    for index, row in df.iterrows():\n",
    "        \n",
    "        if (row['main_speaker'] == speaker_name):\n",
    "            title.append(row['title'])\n",
    "    \n",
    "    return title"
   ]
  },
  {
   "cell_type": "markdown",
   "metadata": {},
   "source": [
    "<h3> Create a dataframe for each speaker<h3>"
   ]
  },
  {
   "cell_type": "code",
   "execution_count": 72,
   "metadata": {},
   "outputs": [],
   "source": [
    "Hans_Rosling= [title('Hans Rosling'), published_date('Hans Rosling'), ratings('Hans Rosling'), durations('Hans Rosling'), views_per_video('Hans Rosling'), \n",
    "               comments_per_video('Hans Rosling'), year('Hans Rosling')]"
   ]
  },
  {
   "cell_type": "code",
   "execution_count": 73,
   "metadata": {},
   "outputs": [],
   "source": [
    "dfHans_Rosling = pd.DataFrame(Hans_Rosling).transpose().reset_index()\n",
    "\n",
    "dfHans_Rosling.columns = ['id', 'rating', 'title', 'published_date','duration', 'views', 'comments', 'year']\n",
    "\n",
    "dfHans_Rosling.set_index('id', inplace = True)\n",
    "dfHans_Rosling.to_csv('./Result/Hans_Rosling.csv')"
   ]
  },
  {
   "cell_type": "code",
   "execution_count": 74,
   "metadata": {},
   "outputs": [],
   "source": [
    "Juan_Enriquez = [title('Juan Enriquez'), published_date('Juan Enriquez'), ratings('Juan Enriquez'), durations('Juan Enriquez'), views_per_video('Juan Enriquez'), \n",
    "               comments_per_video('Juan Enriquez'), year('Juan Enriquez')]"
   ]
  },
  {
   "cell_type": "code",
   "execution_count": 75,
   "metadata": {},
   "outputs": [],
   "source": [
    "dfJuan_Enriquez = pd.DataFrame(Juan_Enriquez).transpose().reset_index()\n",
    "\n",
    "dfJuan_Enriquez.columns = ['id', 'title', 'rating', 'published_date', 'duration', 'views', 'comments', 'year']\n",
    "\n",
    "dfJuan_Enriquez.set_index('id', inplace = True)\n",
    "dfJuan_Enriquez.to_csv('./Result/Juan_Enriquez.csv')"
   ]
  },
  {
   "cell_type": "code",
   "execution_count": 76,
   "metadata": {},
   "outputs": [],
   "source": [
    "Rives = [title('Rives'), published_date('Rives'), ratings('Rives'), durations('Rives'), views_per_video('Rives'), \n",
    "               comments_per_video('Rives'), year('Rives')]"
   ]
  },
  {
   "cell_type": "code",
   "execution_count": 77,
   "metadata": {},
   "outputs": [],
   "source": [
    "dfRives = pd.DataFrame(Rives).transpose().reset_index()\n",
    "\n",
    "dfRives.columns = ['id', 'title', 'rating', 'published_date', 'duration', 'views', 'comments', 'year']\n",
    "\n",
    "dfRives.set_index('id', inplace = True)\n",
    "dfRives.to_csv('./Result/Rives.csv')"
   ]
  },
  {
   "cell_type": "code",
   "execution_count": 78,
   "metadata": {},
   "outputs": [],
   "source": [
    "Marco_Tempest = [title('Marco Tempest'), published_date('Marco Tempest'), ratings('Marco Tempest'), durations('Marco Tempest'), views_per_video('Marco Tempest'), \n",
    "               comments_per_video('Marco Tempest'), year('Marco Tempest')]"
   ]
  },
  {
   "cell_type": "code",
   "execution_count": 79,
   "metadata": {},
   "outputs": [],
   "source": [
    "dfMarco_Tempest = pd.DataFrame(Marco_Tempest).transpose().reset_index()\n",
    "\n",
    "dfMarco_Tempest.columns = ['id', 'title', 'rating', 'published_date', 'duration', 'views', 'comments', 'year']\n",
    "\n",
    "dfMarco_Tempest.set_index('id', inplace = True)\n",
    "dfMarco_Tempest.to_csv('./Result/Marco_Tempest.csv')"
   ]
  },
  {
   "cell_type": "code",
   "execution_count": 80,
   "metadata": {},
   "outputs": [],
   "source": [
    "Clay_Shirky = [title('Clay Shirky'), published_date('Clay Shirky'), ratings('Clay Shirky'), durations('Clay Shirky'), views_per_video('Clay Shirky'), \n",
    "               comments_per_video('Clay Shirky'), year('Clay Shirky')]"
   ]
  },
  {
   "cell_type": "code",
   "execution_count": 81,
   "metadata": {},
   "outputs": [],
   "source": [
    "dfClay_Shirky = pd.DataFrame(Clay_Shirky).transpose().reset_index()\n",
    "\n",
    "dfClay_Shirky.columns = ['id', 'title', 'rating', 'published_date', 'duration', 'views', 'comments', 'year']\n",
    "\n",
    "dfClay_Shirky.set_index('id', inplace = True)\n",
    "dfClay_Shirky.to_csv('./Result/Clay_Shirky.csv')"
   ]
  },
  {
   "cell_type": "code",
   "execution_count": 82,
   "metadata": {},
   "outputs": [
    {
     "data": {
      "text/plain": [
       "0       26-06-2006\n",
       "1       26-06-2006\n",
       "2       26-06-2006\n",
       "3       26-06-2006\n",
       "4       27-06-2006\n",
       "           ...    \n",
       "2545    19-09-2017\n",
       "2546    20-09-2017\n",
       "2547    21-09-2017\n",
       "2548    21-09-2017\n",
       "2549    22-09-2017\n",
       "Name: published_date, Length: 2550, dtype: object"
      ]
     },
     "execution_count": 82,
     "metadata": {},
     "output_type": "execute_result"
    }
   ],
   "source": [
    "df['published_date']"
   ]
  },
  {
   "cell_type": "code",
   "execution_count": 83,
   "metadata": {},
   "outputs": [
    {
     "data": {
      "text/html": [
       "<div>\n",
       "<style scoped>\n",
       "    .dataframe tbody tr th:only-of-type {\n",
       "        vertical-align: middle;\n",
       "    }\n",
       "\n",
       "    .dataframe tbody tr th {\n",
       "        vertical-align: top;\n",
       "    }\n",
       "\n",
       "    .dataframe thead th {\n",
       "        text-align: right;\n",
       "    }\n",
       "</style>\n",
       "<table border=\"1\" class=\"dataframe\">\n",
       "  <thead>\n",
       "    <tr style=\"text-align: right;\">\n",
       "      <th></th>\n",
       "      <th>views</th>\n",
       "      <th>film_date</th>\n",
       "    </tr>\n",
       "  </thead>\n",
       "  <tbody>\n",
       "    <tr>\n",
       "      <th>200</th>\n",
       "      <td>974087</td>\n",
       "      <td>01-02-1984</td>\n",
       "    </tr>\n",
       "    <tr>\n",
       "      <th>316</th>\n",
       "      <td>197139</td>\n",
       "      <td>01-02-1998</td>\n",
       "    </tr>\n",
       "    <tr>\n",
       "      <th>382</th>\n",
       "      <td>382985</td>\n",
       "      <td>01-02-1998</td>\n",
       "    </tr>\n",
       "    <tr>\n",
       "      <th>395</th>\n",
       "      <td>382517</td>\n",
       "      <td>01-02-1998</td>\n",
       "    </tr>\n",
       "    <tr>\n",
       "      <th>376</th>\n",
       "      <td>1013266</td>\n",
       "      <td>01-02-1998</td>\n",
       "    </tr>\n",
       "    <tr>\n",
       "      <th>...</th>\n",
       "      <td>...</td>\n",
       "      <td>...</td>\n",
       "    </tr>\n",
       "    <tr>\n",
       "      <th>1871</th>\n",
       "      <td>3143653</td>\n",
       "      <td>31-10-2014</td>\n",
       "    </tr>\n",
       "    <tr>\n",
       "      <th>2396</th>\n",
       "      <td>804359</td>\n",
       "      <td>31-10-2015</td>\n",
       "    </tr>\n",
       "    <tr>\n",
       "      <th>2279</th>\n",
       "      <td>2603203</td>\n",
       "      <td>31-10-2015</td>\n",
       "    </tr>\n",
       "    <tr>\n",
       "      <th>162</th>\n",
       "      <td>418234</td>\n",
       "      <td>31-12-2006</td>\n",
       "    </tr>\n",
       "    <tr>\n",
       "      <th>206</th>\n",
       "      <td>763815</td>\n",
       "      <td>31-12-2006</td>\n",
       "    </tr>\n",
       "  </tbody>\n",
       "</table>\n",
       "<p>2550 rows × 2 columns</p>\n",
       "</div>"
      ],
      "text/plain": [
       "        views   film_date\n",
       "200    974087  01-02-1984\n",
       "316    197139  01-02-1998\n",
       "382    382985  01-02-1998\n",
       "395    382517  01-02-1998\n",
       "376   1013266  01-02-1998\n",
       "...       ...         ...\n",
       "1871  3143653  31-10-2014\n",
       "2396   804359  31-10-2015\n",
       "2279  2603203  31-10-2015\n",
       "162    418234  31-12-2006\n",
       "206    763815  31-12-2006\n",
       "\n",
       "[2550 rows x 2 columns]"
      ]
     },
     "execution_count": 83,
     "metadata": {},
     "output_type": "execute_result"
    }
   ],
   "source": [
    "pop_talks = df[['views', 'film_date']].sort_values('film_date', ascending=True)\n",
    "pop_talks"
   ]
  },
  {
   "cell_type": "code",
   "execution_count": 84,
   "metadata": {},
   "outputs": [
    {
     "data": {
      "text/html": [
       "<div>\n",
       "<style scoped>\n",
       "    .dataframe tbody tr th:only-of-type {\n",
       "        vertical-align: middle;\n",
       "    }\n",
       "\n",
       "    .dataframe tbody tr th {\n",
       "        vertical-align: top;\n",
       "    }\n",
       "\n",
       "    .dataframe thead th {\n",
       "        text-align: right;\n",
       "    }\n",
       "</style>\n",
       "<table border=\"1\" class=\"dataframe\">\n",
       "  <thead>\n",
       "    <tr style=\"text-align: right;\">\n",
       "      <th></th>\n",
       "      <th>name</th>\n",
       "      <th>title</th>\n",
       "      <th>description</th>\n",
       "      <th>main_speaker</th>\n",
       "      <th>speaker_occupation</th>\n",
       "      <th>num_speaker</th>\n",
       "      <th>duration</th>\n",
       "      <th>event</th>\n",
       "      <th>film_date</th>\n",
       "      <th>published_date</th>\n",
       "      <th>comments</th>\n",
       "      <th>tags</th>\n",
       "      <th>languages</th>\n",
       "      <th>ratings</th>\n",
       "      <th>related_talks</th>\n",
       "      <th>url</th>\n",
       "      <th>views</th>\n",
       "      <th>total_ratings</th>\n",
       "      <th>year</th>\n",
       "      <th>words_in_title</th>\n",
       "    </tr>\n",
       "  </thead>\n",
       "  <tbody>\n",
       "    <tr>\n",
       "      <th>0</th>\n",
       "      <td>Ken Robinson: Do schools kill creativity?</td>\n",
       "      <td>Do schools kill creativity?</td>\n",
       "      <td>Sir Ken Robinson makes an entertaining and pro...</td>\n",
       "      <td>Ken Robinson</td>\n",
       "      <td>Author/educator</td>\n",
       "      <td>1</td>\n",
       "      <td>19</td>\n",
       "      <td>TED2006</td>\n",
       "      <td>24-02-2006</td>\n",
       "      <td>26-06-2006</td>\n",
       "      <td>4553</td>\n",
       "      <td>['children', 'creativity', 'culture', 'dance',...</td>\n",
       "      <td>60</td>\n",
       "      <td>[{'id': 7, 'name': 'Funny', 'count': 19645}, {...</td>\n",
       "      <td>[{'id': 865, 'hero': 'https://pe.tedcdn.com/im...</td>\n",
       "      <td>https://www.ted.com/talks/ken_robinson_says_sc...</td>\n",
       "      <td>47227110</td>\n",
       "      <td>89226</td>\n",
       "      <td>2006</td>\n",
       "      <td>4</td>\n",
       "    </tr>\n",
       "    <tr>\n",
       "      <th>1</th>\n",
       "      <td>Al Gore: Averting the climate crisis</td>\n",
       "      <td>Averting the climate crisis</td>\n",
       "      <td>With the same humor and humanity he exuded in ...</td>\n",
       "      <td>Al Gore</td>\n",
       "      <td>Climate advocate</td>\n",
       "      <td>1</td>\n",
       "      <td>16</td>\n",
       "      <td>TED2006</td>\n",
       "      <td>24-02-2006</td>\n",
       "      <td>26-06-2006</td>\n",
       "      <td>265</td>\n",
       "      <td>['alternative energy', 'cars', 'climate change...</td>\n",
       "      <td>43</td>\n",
       "      <td>[{'id': 7, 'name': 'Funny', 'count': 544}, {'i...</td>\n",
       "      <td>[{'id': 243, 'hero': 'https://pe.tedcdn.com/im...</td>\n",
       "      <td>https://www.ted.com/talks/al_gore_on_averting_...</td>\n",
       "      <td>3200520</td>\n",
       "      <td>1402</td>\n",
       "      <td>2006</td>\n",
       "      <td>4</td>\n",
       "    </tr>\n",
       "    <tr>\n",
       "      <th>2</th>\n",
       "      <td>David Pogue: Simplicity sells</td>\n",
       "      <td>Simplicity sells</td>\n",
       "      <td>New York Times columnist David Pogue takes aim...</td>\n",
       "      <td>David Pogue</td>\n",
       "      <td>Technology columnist</td>\n",
       "      <td>1</td>\n",
       "      <td>21</td>\n",
       "      <td>TED2006</td>\n",
       "      <td>23-02-2006</td>\n",
       "      <td>26-06-2006</td>\n",
       "      <td>124</td>\n",
       "      <td>['computers', 'entertainment', 'interface desi...</td>\n",
       "      <td>26</td>\n",
       "      <td>[{'id': 7, 'name': 'Funny', 'count': 964}, {'i...</td>\n",
       "      <td>[{'id': 1725, 'hero': 'https://pe.tedcdn.com/i...</td>\n",
       "      <td>https://www.ted.com/talks/david_pogue_says_sim...</td>\n",
       "      <td>1636292</td>\n",
       "      <td>1830</td>\n",
       "      <td>2006</td>\n",
       "      <td>2</td>\n",
       "    </tr>\n",
       "    <tr>\n",
       "      <th>3</th>\n",
       "      <td>Majora Carter: Greening the ghetto</td>\n",
       "      <td>Greening the ghetto</td>\n",
       "      <td>In an emotionally charged talk, MacArthur-winn...</td>\n",
       "      <td>Majora Carter</td>\n",
       "      <td>Activist for environmental justice</td>\n",
       "      <td>1</td>\n",
       "      <td>18</td>\n",
       "      <td>TED2006</td>\n",
       "      <td>25-02-2006</td>\n",
       "      <td>26-06-2006</td>\n",
       "      <td>200</td>\n",
       "      <td>['MacArthur grant', 'activism', 'business', 'c...</td>\n",
       "      <td>35</td>\n",
       "      <td>[{'id': 3, 'name': 'Courageous', 'count': 760}...</td>\n",
       "      <td>[{'id': 1041, 'hero': 'https://pe.tedcdn.com/i...</td>\n",
       "      <td>https://www.ted.com/talks/majora_carter_s_tale...</td>\n",
       "      <td>1697550</td>\n",
       "      <td>3246</td>\n",
       "      <td>2006</td>\n",
       "      <td>3</td>\n",
       "    </tr>\n",
       "    <tr>\n",
       "      <th>4</th>\n",
       "      <td>Hans Rosling: The best stats you've ever seen</td>\n",
       "      <td>The best stats you've ever seen</td>\n",
       "      <td>You've never seen data presented like this. Wi...</td>\n",
       "      <td>Hans Rosling</td>\n",
       "      <td>Global health expert; data visionary</td>\n",
       "      <td>1</td>\n",
       "      <td>19</td>\n",
       "      <td>TED2006</td>\n",
       "      <td>21-02-2006</td>\n",
       "      <td>27-06-2006</td>\n",
       "      <td>593</td>\n",
       "      <td>['Africa', 'Asia', 'Google', 'demo', 'economic...</td>\n",
       "      <td>48</td>\n",
       "      <td>[{'id': 9, 'name': 'Ingenious', 'count': 3202}...</td>\n",
       "      <td>[{'id': 2056, 'hero': 'https://pe.tedcdn.com/i...</td>\n",
       "      <td>https://www.ted.com/talks/hans_rosling_shows_t...</td>\n",
       "      <td>12005869</td>\n",
       "      <td>24504</td>\n",
       "      <td>2006</td>\n",
       "      <td>6</td>\n",
       "    </tr>\n",
       "    <tr>\n",
       "      <th>...</th>\n",
       "      <td>...</td>\n",
       "      <td>...</td>\n",
       "      <td>...</td>\n",
       "      <td>...</td>\n",
       "      <td>...</td>\n",
       "      <td>...</td>\n",
       "      <td>...</td>\n",
       "      <td>...</td>\n",
       "      <td>...</td>\n",
       "      <td>...</td>\n",
       "      <td>...</td>\n",
       "      <td>...</td>\n",
       "      <td>...</td>\n",
       "      <td>...</td>\n",
       "      <td>...</td>\n",
       "      <td>...</td>\n",
       "      <td>...</td>\n",
       "      <td>...</td>\n",
       "      <td>...</td>\n",
       "      <td>...</td>\n",
       "    </tr>\n",
       "    <tr>\n",
       "      <th>2545</th>\n",
       "      <td>Duarte Geraldino: What we're missing in the de...</td>\n",
       "      <td>What we're missing in the debate about immigra...</td>\n",
       "      <td>Between 2008 and 2016, the United States depor...</td>\n",
       "      <td>Duarte Geraldino</td>\n",
       "      <td>Journalist</td>\n",
       "      <td>1</td>\n",
       "      <td>7</td>\n",
       "      <td>TED2017</td>\n",
       "      <td>05-06-2017</td>\n",
       "      <td>19-09-2017</td>\n",
       "      <td>17</td>\n",
       "      <td>['TED Residency', 'United States', 'community'...</td>\n",
       "      <td>4</td>\n",
       "      <td>[{'id': 3, 'name': 'Courageous', 'count': 24},...</td>\n",
       "      <td>[{'id': 2596, 'hero': 'https://pe.tedcdn.com/i...</td>\n",
       "      <td>https://www.ted.com/talks/duarte_geraldino_wha...</td>\n",
       "      <td>450430</td>\n",
       "      <td>156</td>\n",
       "      <td>2017</td>\n",
       "      <td>8</td>\n",
       "    </tr>\n",
       "    <tr>\n",
       "      <th>2546</th>\n",
       "      <td>Armando Azua-Bustos: The most Martian place on...</td>\n",
       "      <td>The most Martian place on Earth</td>\n",
       "      <td>How can you study Mars without a spaceship? He...</td>\n",
       "      <td>Armando Azua-Bustos</td>\n",
       "      <td>Astrobiologist</td>\n",
       "      <td>1</td>\n",
       "      <td>4</td>\n",
       "      <td>TED2017</td>\n",
       "      <td>23-04-2017</td>\n",
       "      <td>20-09-2017</td>\n",
       "      <td>6</td>\n",
       "      <td>['Mars', 'South America', 'TED Fellows', 'astr...</td>\n",
       "      <td>3</td>\n",
       "      <td>[{'id': 22, 'name': 'Fascinating', 'count': 32...</td>\n",
       "      <td>[{'id': 2491, 'hero': 'https://pe.tedcdn.com/i...</td>\n",
       "      <td>https://www.ted.com/talks/armando_azua_bustos_...</td>\n",
       "      <td>417470</td>\n",
       "      <td>123</td>\n",
       "      <td>2017</td>\n",
       "      <td>6</td>\n",
       "    </tr>\n",
       "    <tr>\n",
       "      <th>2547</th>\n",
       "      <td>Radhika Nagpal: What intelligent machines can ...</td>\n",
       "      <td>What intelligent machines can learn from a sch...</td>\n",
       "      <td>Science fiction visions of the future show us ...</td>\n",
       "      <td>Radhika Nagpal</td>\n",
       "      <td>Robotics engineer</td>\n",
       "      <td>1</td>\n",
       "      <td>10</td>\n",
       "      <td>TED2017</td>\n",
       "      <td>23-04-2017</td>\n",
       "      <td>21-09-2017</td>\n",
       "      <td>10</td>\n",
       "      <td>['AI', 'ants', 'fish', 'future', 'innovation',...</td>\n",
       "      <td>1</td>\n",
       "      <td>[{'id': 1, 'name': 'Beautiful', 'count': 14}, ...</td>\n",
       "      <td>[{'id': 2346, 'hero': 'https://pe.tedcdn.com/i...</td>\n",
       "      <td>https://www.ted.com/talks/radhika_nagpal_what_...</td>\n",
       "      <td>375647</td>\n",
       "      <td>116</td>\n",
       "      <td>2017</td>\n",
       "      <td>10</td>\n",
       "    </tr>\n",
       "    <tr>\n",
       "      <th>2548</th>\n",
       "      <td>Theo E.J. Wilson: A black man goes undercover ...</td>\n",
       "      <td>A black man goes undercover in the alt-right</td>\n",
       "      <td>In an unmissable talk about race and politics ...</td>\n",
       "      <td>Theo E.J. Wilson</td>\n",
       "      <td>Public intellectual</td>\n",
       "      <td>1</td>\n",
       "      <td>18</td>\n",
       "      <td>TEDxMileHigh</td>\n",
       "      <td>07-07-2017</td>\n",
       "      <td>21-09-2017</td>\n",
       "      <td>32</td>\n",
       "      <td>['Internet', 'TEDx', 'United States', 'communi...</td>\n",
       "      <td>1</td>\n",
       "      <td>[{'id': 11, 'name': 'Longwinded', 'count': 3},...</td>\n",
       "      <td>[{'id': 2512, 'hero': 'https://pe.tedcdn.com/i...</td>\n",
       "      <td>https://www.ted.com/talks/theo_e_j_wilson_a_bl...</td>\n",
       "      <td>419309</td>\n",
       "      <td>539</td>\n",
       "      <td>2017</td>\n",
       "      <td>8</td>\n",
       "    </tr>\n",
       "    <tr>\n",
       "      <th>2549</th>\n",
       "      <td>Karoliina Korppoo: How a video game might help...</td>\n",
       "      <td>How a video game might help us build better ci...</td>\n",
       "      <td>With more than half of the world population li...</td>\n",
       "      <td>Karoliina Korppoo</td>\n",
       "      <td>Game designer</td>\n",
       "      <td>1</td>\n",
       "      <td>8</td>\n",
       "      <td>TED2017</td>\n",
       "      <td>23-04-2017</td>\n",
       "      <td>22-09-2017</td>\n",
       "      <td>8</td>\n",
       "      <td>['cities', 'design', 'future', 'infrastructure...</td>\n",
       "      <td>1</td>\n",
       "      <td>[{'id': 21, 'name': 'Unconvincing', 'count': 2...</td>\n",
       "      <td>[{'id': 2682, 'hero': 'https://pe.tedcdn.com/i...</td>\n",
       "      <td>https://www.ted.com/talks/karoliina_korppoo_ho...</td>\n",
       "      <td>391721</td>\n",
       "      <td>46</td>\n",
       "      <td>2017</td>\n",
       "      <td>10</td>\n",
       "    </tr>\n",
       "  </tbody>\n",
       "</table>\n",
       "<p>2550 rows × 20 columns</p>\n",
       "</div>"
      ],
      "text/plain": [
       "                                                   name  \\\n",
       "0             Ken Robinson: Do schools kill creativity?   \n",
       "1                  Al Gore: Averting the climate crisis   \n",
       "2                         David Pogue: Simplicity sells   \n",
       "3                    Majora Carter: Greening the ghetto   \n",
       "4         Hans Rosling: The best stats you've ever seen   \n",
       "...                                                 ...   \n",
       "2545  Duarte Geraldino: What we're missing in the de...   \n",
       "2546  Armando Azua-Bustos: The most Martian place on...   \n",
       "2547  Radhika Nagpal: What intelligent machines can ...   \n",
       "2548  Theo E.J. Wilson: A black man goes undercover ...   \n",
       "2549  Karoliina Korppoo: How a video game might help...   \n",
       "\n",
       "                                                  title  \\\n",
       "0                           Do schools kill creativity?   \n",
       "1                           Averting the climate crisis   \n",
       "2                                      Simplicity sells   \n",
       "3                                   Greening the ghetto   \n",
       "4                       The best stats you've ever seen   \n",
       "...                                                 ...   \n",
       "2545  What we're missing in the debate about immigra...   \n",
       "2546                    The most Martian place on Earth   \n",
       "2547  What intelligent machines can learn from a sch...   \n",
       "2548       A black man goes undercover in the alt-right   \n",
       "2549  How a video game might help us build better ci...   \n",
       "\n",
       "                                            description         main_speaker  \\\n",
       "0     Sir Ken Robinson makes an entertaining and pro...         Ken Robinson   \n",
       "1     With the same humor and humanity he exuded in ...              Al Gore   \n",
       "2     New York Times columnist David Pogue takes aim...          David Pogue   \n",
       "3     In an emotionally charged talk, MacArthur-winn...        Majora Carter   \n",
       "4     You've never seen data presented like this. Wi...         Hans Rosling   \n",
       "...                                                 ...                  ...   \n",
       "2545  Between 2008 and 2016, the United States depor...     Duarte Geraldino   \n",
       "2546  How can you study Mars without a spaceship? He...  Armando Azua-Bustos   \n",
       "2547  Science fiction visions of the future show us ...       Radhika Nagpal   \n",
       "2548  In an unmissable talk about race and politics ...     Theo E.J. Wilson   \n",
       "2549  With more than half of the world population li...    Karoliina Korppoo   \n",
       "\n",
       "                        speaker_occupation  num_speaker  duration  \\\n",
       "0                          Author/educator            1        19   \n",
       "1                         Climate advocate            1        16   \n",
       "2                     Technology columnist            1        21   \n",
       "3       Activist for environmental justice            1        18   \n",
       "4     Global health expert; data visionary            1        19   \n",
       "...                                    ...          ...       ...   \n",
       "2545                            Journalist            1         7   \n",
       "2546                        Astrobiologist            1         4   \n",
       "2547                     Robotics engineer            1        10   \n",
       "2548                   Public intellectual            1        18   \n",
       "2549                         Game designer            1         8   \n",
       "\n",
       "             event   film_date published_date  comments  \\\n",
       "0          TED2006  24-02-2006     26-06-2006      4553   \n",
       "1          TED2006  24-02-2006     26-06-2006       265   \n",
       "2          TED2006  23-02-2006     26-06-2006       124   \n",
       "3          TED2006  25-02-2006     26-06-2006       200   \n",
       "4          TED2006  21-02-2006     27-06-2006       593   \n",
       "...            ...         ...            ...       ...   \n",
       "2545       TED2017  05-06-2017     19-09-2017        17   \n",
       "2546       TED2017  23-04-2017     20-09-2017         6   \n",
       "2547       TED2017  23-04-2017     21-09-2017        10   \n",
       "2548  TEDxMileHigh  07-07-2017     21-09-2017        32   \n",
       "2549       TED2017  23-04-2017     22-09-2017         8   \n",
       "\n",
       "                                                   tags  languages  \\\n",
       "0     ['children', 'creativity', 'culture', 'dance',...         60   \n",
       "1     ['alternative energy', 'cars', 'climate change...         43   \n",
       "2     ['computers', 'entertainment', 'interface desi...         26   \n",
       "3     ['MacArthur grant', 'activism', 'business', 'c...         35   \n",
       "4     ['Africa', 'Asia', 'Google', 'demo', 'economic...         48   \n",
       "...                                                 ...        ...   \n",
       "2545  ['TED Residency', 'United States', 'community'...          4   \n",
       "2546  ['Mars', 'South America', 'TED Fellows', 'astr...          3   \n",
       "2547  ['AI', 'ants', 'fish', 'future', 'innovation',...          1   \n",
       "2548  ['Internet', 'TEDx', 'United States', 'communi...          1   \n",
       "2549  ['cities', 'design', 'future', 'infrastructure...          1   \n",
       "\n",
       "                                                ratings  \\\n",
       "0     [{'id': 7, 'name': 'Funny', 'count': 19645}, {...   \n",
       "1     [{'id': 7, 'name': 'Funny', 'count': 544}, {'i...   \n",
       "2     [{'id': 7, 'name': 'Funny', 'count': 964}, {'i...   \n",
       "3     [{'id': 3, 'name': 'Courageous', 'count': 760}...   \n",
       "4     [{'id': 9, 'name': 'Ingenious', 'count': 3202}...   \n",
       "...                                                 ...   \n",
       "2545  [{'id': 3, 'name': 'Courageous', 'count': 24},...   \n",
       "2546  [{'id': 22, 'name': 'Fascinating', 'count': 32...   \n",
       "2547  [{'id': 1, 'name': 'Beautiful', 'count': 14}, ...   \n",
       "2548  [{'id': 11, 'name': 'Longwinded', 'count': 3},...   \n",
       "2549  [{'id': 21, 'name': 'Unconvincing', 'count': 2...   \n",
       "\n",
       "                                          related_talks  \\\n",
       "0     [{'id': 865, 'hero': 'https://pe.tedcdn.com/im...   \n",
       "1     [{'id': 243, 'hero': 'https://pe.tedcdn.com/im...   \n",
       "2     [{'id': 1725, 'hero': 'https://pe.tedcdn.com/i...   \n",
       "3     [{'id': 1041, 'hero': 'https://pe.tedcdn.com/i...   \n",
       "4     [{'id': 2056, 'hero': 'https://pe.tedcdn.com/i...   \n",
       "...                                                 ...   \n",
       "2545  [{'id': 2596, 'hero': 'https://pe.tedcdn.com/i...   \n",
       "2546  [{'id': 2491, 'hero': 'https://pe.tedcdn.com/i...   \n",
       "2547  [{'id': 2346, 'hero': 'https://pe.tedcdn.com/i...   \n",
       "2548  [{'id': 2512, 'hero': 'https://pe.tedcdn.com/i...   \n",
       "2549  [{'id': 2682, 'hero': 'https://pe.tedcdn.com/i...   \n",
       "\n",
       "                                                    url     views  \\\n",
       "0     https://www.ted.com/talks/ken_robinson_says_sc...  47227110   \n",
       "1     https://www.ted.com/talks/al_gore_on_averting_...   3200520   \n",
       "2     https://www.ted.com/talks/david_pogue_says_sim...   1636292   \n",
       "3     https://www.ted.com/talks/majora_carter_s_tale...   1697550   \n",
       "4     https://www.ted.com/talks/hans_rosling_shows_t...  12005869   \n",
       "...                                                 ...       ...   \n",
       "2545  https://www.ted.com/talks/duarte_geraldino_wha...    450430   \n",
       "2546  https://www.ted.com/talks/armando_azua_bustos_...    417470   \n",
       "2547  https://www.ted.com/talks/radhika_nagpal_what_...    375647   \n",
       "2548  https://www.ted.com/talks/theo_e_j_wilson_a_bl...    419309   \n",
       "2549  https://www.ted.com/talks/karoliina_korppoo_ho...    391721   \n",
       "\n",
       "      total_ratings  year  words_in_title  \n",
       "0             89226  2006               4  \n",
       "1              1402  2006               4  \n",
       "2              1830  2006               2  \n",
       "3              3246  2006               3  \n",
       "4             24504  2006               6  \n",
       "...             ...   ...             ...  \n",
       "2545            156  2017               8  \n",
       "2546            123  2017               6  \n",
       "2547            116  2017              10  \n",
       "2548            539  2017               8  \n",
       "2549             46  2017              10  \n",
       "\n",
       "[2550 rows x 20 columns]"
      ]
     },
     "execution_count": 84,
     "metadata": {},
     "output_type": "execute_result"
    }
   ],
   "source": [
    "df\n"
   ]
  },
  {
   "cell_type": "code",
   "execution_count": null,
   "metadata": {},
   "outputs": [],
   "source": []
  }
 ],
 "metadata": {
  "kernelspec": {
   "display_name": "Python 3",
   "language": "python",
   "name": "python3"
  },
  "language_info": {
   "codemirror_mode": {
    "name": "ipython",
    "version": 3
   },
   "file_extension": ".py",
   "mimetype": "text/x-python",
   "name": "python",
   "nbconvert_exporter": "python",
   "pygments_lexer": "ipython3",
   "version": "3.8.5"
  }
 },
 "nbformat": 4,
 "nbformat_minor": 2
}
